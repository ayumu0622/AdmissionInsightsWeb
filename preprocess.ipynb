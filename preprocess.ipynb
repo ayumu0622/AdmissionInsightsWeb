{
  "cells": [
    {
      "cell_type": "code",
      "execution_count": 24,
      "metadata": {
        "id": "-kBFPYploIGf"
      },
      "outputs": [],
      "source": [
        "import pandas as pd\n",
        "import plotly.graph_objects as go"
      ]
    },
    {
      "cell_type": "code",
      "execution_count": 113,
      "metadata": {},
      "outputs": [],
      "source": [
        "df_list = []\n",
        "for i in range(2012, 2022):\n",
        "    df = pd.read_csv(f\"data/{i}berkeley.csv\",encoding='utf-16',sep = '\\t')\n",
        "    df_list.append(df)"
      ]
    },
    {
      "cell_type": "code",
      "execution_count": 4,
      "metadata": {},
      "outputs": [],
      "source": [
        "df_2022 =pd.read_csv('data/2022berkeley.csv',encoding='utf-16',sep = '\\t' )"
      ]
    },
    {
      "cell_type": "code",
      "execution_count": 88,
      "metadata": {},
      "outputs": [],
      "source": [
        "colleges = dict(df_2022['College/School '].value_counts())\n",
        "abbr = [\"(l&S)\", \"(conr)\", \"(coe)\", \"(coc)\", \"(coed)\",\"(ugba)\"]\n",
        "for i, k in zip(abbr, colleges.keys()):\n",
        "    colleges[k] = i \n",
        "colleges"
      ]
    },
    {
      "cell_type": "code",
      "execution_count": 116,
      "metadata": {},
      "outputs": [],
      "source": [
        "def add_drop_create_new_column(df):\n",
        "    df[\"College/School \"] = df[\"College/School \"].apply(lambda x : colleges[x])\n",
        "    df[\"Major name\"] = df[\"Major name\"] +\" \"+ df[\"College/School \"]\n",
        "    df = df.drop([\"Broad discipline \", \"College/School \"], axis = 1)\n",
        "    return df"
      ]
    },
    {
      "cell_type": "code",
      "execution_count": null,
      "metadata": {},
      "outputs": [],
      "source": [
        "def filterout(df):\n",
        "    return df[df[\"Major name\"].isin(list(df_2022[\"Major name\"]))].reset_index(drop=True)"
      ]
    },
    {
      "cell_type": "code",
      "execution_count": 117,
      "metadata": {},
      "outputs": [],
      "source": [
        "for i in range(10):\n",
        "    df_list[i] = add_drop_create_new_column(df_list[i])\n",
        "    df_list[i] = filterout(df_list[i])"
      ]
    },
    {
      "cell_type": "code",
      "execution_count": 133,
      "metadata": {},
      "outputs": [],
      "source": [
        "def add_year(df, i):\n",
        "    df[\"year\"] = i\n",
        "    return df"
      ]
    },
    {
      "cell_type": "code",
      "execution_count": 134,
      "metadata": {},
      "outputs": [],
      "source": [
        "for i in range(10):\n",
        "    df_list[i] = add_year(df_list[i], 2012+i)\n",
        "df_2022[\"year\"] = 2022"
      ]
    },
    {
      "cell_type": "code",
      "execution_count": 141,
      "metadata": {},
      "outputs": [],
      "source": [
        "# dff = pd.concat([df_list[i] for i in range(10)])\n",
        "# dff = pd.concat([dff, df_2022])\n",
        "# dff = dff.reset_index(drop=True)\n",
        "# dff.to_csv(\"data/berkeley_table.csv\", index=False)"
      ]
    }
  ],
  "metadata": {
    "colab": {
      "provenance": []
    },
    "kernelspec": {
      "display_name": "Python 3",
      "name": "python3"
    },
    "language_info": {
      "codemirror_mode": {
        "name": "ipython",
        "version": 3
      },
      "file_extension": ".py",
      "mimetype": "text/x-python",
      "name": "python",
      "nbconvert_exporter": "python",
      "pygments_lexer": "ipython3",
      "version": "3.10.6"
    }
  },
  "nbformat": 4,
  "nbformat_minor": 0
}
