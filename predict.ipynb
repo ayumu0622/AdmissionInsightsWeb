{
 "cells": [
  {
   "cell_type": "code",
   "execution_count": 51,
   "metadata": {},
   "outputs": [],
   "source": [
    "import pandas as pd\n",
    "from sklearn.linear_model import Ridge\n",
    "import numpy as np\n",
    "from sklearn.metrics import mean_squared_error\n",
    "from sklearn.metrics import mean_absolute_error\n",
    "import seaborn as sns\n",
    "import matplotlib.pyplot as plt"
   ]
  },
  {
   "cell_type": "code",
   "execution_count": 52,
   "metadata": {},
   "outputs": [],
   "source": [
    "df = pd.read_csv(\"/Users/ayumuueda/Desktop/UC-Transfer-Analyzer/data/berkeley_table.csv\")"
   ]
  },
  {
   "cell_type": "code",
   "execution_count": 53,
   "metadata": {},
   "outputs": [
    {
     "data": {
      "text/plain": [
       "Index(['Major name', 'Admit GPA range', 'Admit rate', 'Enroll GPA range',\n",
       "       'Yield rate', 'Admits', 'Applicants', 'Enrolls', 'year'],\n",
       "      dtype='object')"
      ]
     },
     "execution_count": 53,
     "metadata": {},
     "output_type": "execute_result"
    }
   ],
   "source": [
    "df.columns"
   ]
  },
  {
   "cell_type": "code",
   "execution_count": 54,
   "metadata": {},
   "outputs": [],
   "source": [
    "df.columns = [\"Major_name\", \"Admit_GPA_range\",\"Admit_rate\",\"Enroll_GPA_range\",\"Yield_rate\",\"Admits\",\"Applicants\",\"Enrolls\", 'year']"
   ]
  },
  {
   "cell_type": "code",
   "execution_count": 55,
   "metadata": {},
   "outputs": [
    {
     "data": {
      "text/html": [
       "<div>\n",
       "<style scoped>\n",
       "    .dataframe tbody tr th:only-of-type {\n",
       "        vertical-align: middle;\n",
       "    }\n",
       "\n",
       "    .dataframe tbody tr th {\n",
       "        vertical-align: top;\n",
       "    }\n",
       "\n",
       "    .dataframe thead th {\n",
       "        text-align: right;\n",
       "    }\n",
       "</style>\n",
       "<table border=\"1\" class=\"dataframe\">\n",
       "  <thead>\n",
       "    <tr style=\"text-align: right;\">\n",
       "      <th></th>\n",
       "      <th>Major_name</th>\n",
       "      <th>Admit_GPA_range</th>\n",
       "      <th>Admit_rate</th>\n",
       "      <th>Enroll_GPA_range</th>\n",
       "      <th>Yield_rate</th>\n",
       "      <th>Admits</th>\n",
       "      <th>Applicants</th>\n",
       "      <th>Enrolls</th>\n",
       "      <th>year</th>\n",
       "    </tr>\n",
       "  </thead>\n",
       "  <tbody>\n",
       "    <tr>\n",
       "      <th>0</th>\n",
       "      <td>Environmental economics &amp; policy (l&amp;S)</td>\n",
       "      <td>3.69 - 4.00</td>\n",
       "      <td>0.282353</td>\n",
       "      <td>3.64 - 3.98</td>\n",
       "      <td>0.750000</td>\n",
       "      <td>24</td>\n",
       "      <td>85</td>\n",
       "      <td>18</td>\n",
       "      <td>2012</td>\n",
       "    </tr>\n",
       "    <tr>\n",
       "      <th>1</th>\n",
       "      <td>Conservation &amp; resource studies (conr)</td>\n",
       "      <td>3.51 - 3.81</td>\n",
       "      <td>0.500000</td>\n",
       "      <td>3.48 - 3.78</td>\n",
       "      <td>0.909091</td>\n",
       "      <td>22</td>\n",
       "      <td>44</td>\n",
       "      <td>20</td>\n",
       "      <td>2012</td>\n",
       "    </tr>\n",
       "    <tr>\n",
       "      <th>2</th>\n",
       "      <td>Environmental economics &amp; policy (conr)</td>\n",
       "      <td>3.77 - 3.90</td>\n",
       "      <td>0.333333</td>\n",
       "      <td>3.81 - 3.90</td>\n",
       "      <td>0.750000</td>\n",
       "      <td>20</td>\n",
       "      <td>60</td>\n",
       "      <td>15</td>\n",
       "      <td>2012</td>\n",
       "    </tr>\n",
       "    <tr>\n",
       "      <th>3</th>\n",
       "      <td>Environmental science (conr)</td>\n",
       "      <td>3.64 - 3.92</td>\n",
       "      <td>0.166667</td>\n",
       "      <td>3.60 - 3.90</td>\n",
       "      <td>0.642857</td>\n",
       "      <td>14</td>\n",
       "      <td>84</td>\n",
       "      <td>9</td>\n",
       "      <td>2012</td>\n",
       "    </tr>\n",
       "    <tr>\n",
       "      <th>4</th>\n",
       "      <td>Society and environment (conr)</td>\n",
       "      <td>3.49 - 3.75</td>\n",
       "      <td>0.384615</td>\n",
       "      <td>3.50 - 3.79</td>\n",
       "      <td>0.880000</td>\n",
       "      <td>25</td>\n",
       "      <td>65</td>\n",
       "      <td>22</td>\n",
       "      <td>2012</td>\n",
       "    </tr>\n",
       "    <tr>\n",
       "      <th>...</th>\n",
       "      <td>...</td>\n",
       "      <td>...</td>\n",
       "      <td>...</td>\n",
       "      <td>...</td>\n",
       "      <td>...</td>\n",
       "      <td>...</td>\n",
       "      <td>...</td>\n",
       "      <td>...</td>\n",
       "      <td>...</td>\n",
       "    </tr>\n",
       "    <tr>\n",
       "      <th>695</th>\n",
       "      <td>Anthropology (l&amp;S)</td>\n",
       "      <td>3.62 - 3.95</td>\n",
       "      <td>0.437288</td>\n",
       "      <td>3.47 - 3.95</td>\n",
       "      <td>0.457364</td>\n",
       "      <td>129</td>\n",
       "      <td>295</td>\n",
       "      <td>59</td>\n",
       "      <td>2022</td>\n",
       "    </tr>\n",
       "    <tr>\n",
       "      <th>696</th>\n",
       "      <td>Economics (l&amp;S)</td>\n",
       "      <td>3.77 - 4.00</td>\n",
       "      <td>0.137084</td>\n",
       "      <td>3.77 - 4.00</td>\n",
       "      <td>0.815029</td>\n",
       "      <td>173</td>\n",
       "      <td>1262</td>\n",
       "      <td>141</td>\n",
       "      <td>2022</td>\n",
       "    </tr>\n",
       "    <tr>\n",
       "      <th>697</th>\n",
       "      <td>Political economy (l&amp;S)</td>\n",
       "      <td>3.61 - 4.00</td>\n",
       "      <td>0.423913</td>\n",
       "      <td>3.52 - 3.92</td>\n",
       "      <td>0.692308</td>\n",
       "      <td>39</td>\n",
       "      <td>92</td>\n",
       "      <td>27</td>\n",
       "      <td>2022</td>\n",
       "    </tr>\n",
       "    <tr>\n",
       "      <th>698</th>\n",
       "      <td>Political science (l&amp;S)</td>\n",
       "      <td>3.70 - 4.00</td>\n",
       "      <td>0.210332</td>\n",
       "      <td>3.53 - 3.94</td>\n",
       "      <td>0.504386</td>\n",
       "      <td>228</td>\n",
       "      <td>1084</td>\n",
       "      <td>115</td>\n",
       "      <td>2022</td>\n",
       "    </tr>\n",
       "    <tr>\n",
       "      <th>699</th>\n",
       "      <td>Sociology (l&amp;S)</td>\n",
       "      <td>3.73 - 4.00</td>\n",
       "      <td>0.190379</td>\n",
       "      <td>3.66 - 3.95</td>\n",
       "      <td>0.500000</td>\n",
       "      <td>186</td>\n",
       "      <td>977</td>\n",
       "      <td>93</td>\n",
       "      <td>2022</td>\n",
       "    </tr>\n",
       "  </tbody>\n",
       "</table>\n",
       "<p>700 rows × 9 columns</p>\n",
       "</div>"
      ],
      "text/plain": [
       "                                  Major_name Admit_GPA_range  Admit_rate  \\\n",
       "0     Environmental economics & policy (l&S)     3.69 - 4.00    0.282353   \n",
       "1     Conservation & resource studies (conr)     3.51 - 3.81    0.500000   \n",
       "2    Environmental economics & policy (conr)     3.77 - 3.90    0.333333   \n",
       "3               Environmental science (conr)     3.64 - 3.92    0.166667   \n",
       "4             Society and environment (conr)     3.49 - 3.75    0.384615   \n",
       "..                                       ...             ...         ...   \n",
       "695                       Anthropology (l&S)     3.62 - 3.95    0.437288   \n",
       "696                          Economics (l&S)     3.77 - 4.00    0.137084   \n",
       "697                  Political economy (l&S)     3.61 - 4.00    0.423913   \n",
       "698                  Political science (l&S)     3.70 - 4.00    0.210332   \n",
       "699                          Sociology (l&S)     3.73 - 4.00    0.190379   \n",
       "\n",
       "    Enroll_GPA_range  Yield_rate  Admits  Applicants  Enrolls  year  \n",
       "0        3.64 - 3.98    0.750000      24          85       18  2012  \n",
       "1        3.48 - 3.78    0.909091      22          44       20  2012  \n",
       "2        3.81 - 3.90    0.750000      20          60       15  2012  \n",
       "3        3.60 - 3.90    0.642857      14          84        9  2012  \n",
       "4        3.50 - 3.79    0.880000      25          65       22  2012  \n",
       "..               ...         ...     ...         ...      ...   ...  \n",
       "695      3.47 - 3.95    0.457364     129         295       59  2022  \n",
       "696      3.77 - 4.00    0.815029     173        1262      141  2022  \n",
       "697      3.52 - 3.92    0.692308      39          92       27  2022  \n",
       "698      3.53 - 3.94    0.504386     228        1084      115  2022  \n",
       "699      3.66 - 3.95    0.500000     186         977       93  2022  \n",
       "\n",
       "[700 rows x 9 columns]"
      ]
     },
     "execution_count": 55,
     "metadata": {},
     "output_type": "execute_result"
    }
   ],
   "source": [
    "df"
   ]
  },
  {
   "cell_type": "code",
   "execution_count": 56,
   "metadata": {},
   "outputs": [],
   "source": [
    "def first_q(col):\n",
    "    return float(col[0:4])\n",
    "\n",
    "def third_q(col):\n",
    "    return float(col[7:])"
   ]
  },
  {
   "cell_type": "code",
   "execution_count": 57,
   "metadata": {},
   "outputs": [],
   "source": [
    "def preprocess(df):\n",
    "    \n",
    "    dump_list = []\n",
    "\n",
    "    for i, k in dict(df[\"Major_name\"].value_counts()).items():\n",
    "        if k == 1 :\n",
    "            dump_list.append(i)\n",
    "\n",
    "    df = df[~df[\"Major_name\"].isin(dump_list)]\n",
    "    df = df[df[\"Admit_GPA_range\"] != \"masked\"]\n",
    "    df = df[df[\"Enroll_GPA_range\"] != \"masked\"]\n",
    "    df = df.sort_values(by=[\"Major_name\", \"year\"])\n",
    "    df[\"lag\"] = df.groupby([\"Major_name\"])[\"Admit_rate\"].shift(-1).fillna(0)\n",
    "    df[\"25th admit\"] = df[\"Admit_GPA_range\"].apply(first_q)\n",
    "    df[\"25th enroll\"] = df[\"Enroll_GPA_range\"].apply(first_q)\n",
    "    df[\"75th admit\"] = df[\"Admit_GPA_range\"].apply(third_q)\n",
    "    df[\"75th enroll\"] = df[\"Enroll_GPA_range\"].apply(third_q)\n",
    "    df[\"approx median admit\"] = (df[\"25th admit\"] + df[\"75th admit\"]) / 2\n",
    "    df[\"approx median Enroll\"] = (df[\"25th enroll\"] + df[\"75th enroll\"]) / 2\n",
    "\n",
    "    df = df.drop([\"25th admit\",\"25th enroll\", \"75th admit\", \"75th enroll\", \"approx median admit\", \"Enrolls\"], axis=1)\n",
    "    df = df.drop([\"Admit_GPA_range\",\"Enroll_GPA_range\"], axis = 1)\n",
    "    return df\n"
   ]
  },
  {
   "cell_type": "code",
   "execution_count": 58,
   "metadata": {},
   "outputs": [
    {
     "data": {
      "text/plain": [
       "Index(['Admit rate', 'Yield rate', 'Admits', 'Applicants',\n",
       "       'approx median Enroll'],\n",
       "      dtype='object')"
      ]
     },
     "execution_count": 58,
     "metadata": {},
     "output_type": "execute_result"
    }
   ],
   "source": [
    "test_x.columns"
   ]
  },
  {
   "cell_type": "code",
   "execution_count": 59,
   "metadata": {},
   "outputs": [],
   "source": [
    "df = preprocess(df)"
   ]
  },
  {
   "cell_type": "code",
   "execution_count": 60,
   "metadata": {},
   "outputs": [],
   "source": [
    "df[\"max_year\"] = df.groupby(\"Major_name\")['year'].transform(max)"
   ]
  },
  {
   "cell_type": "code",
   "execution_count": 61,
   "metadata": {},
   "outputs": [
    {
     "data": {
      "text/html": [
       "<div>\n",
       "<style scoped>\n",
       "    .dataframe tbody tr th:only-of-type {\n",
       "        vertical-align: middle;\n",
       "    }\n",
       "\n",
       "    .dataframe tbody tr th {\n",
       "        vertical-align: top;\n",
       "    }\n",
       "\n",
       "    .dataframe thead th {\n",
       "        text-align: right;\n",
       "    }\n",
       "</style>\n",
       "<table border=\"1\" class=\"dataframe\">\n",
       "  <thead>\n",
       "    <tr style=\"text-align: right;\">\n",
       "      <th></th>\n",
       "      <th>Major_name</th>\n",
       "      <th>Admit_rate</th>\n",
       "      <th>Yield_rate</th>\n",
       "      <th>Admits</th>\n",
       "      <th>Applicants</th>\n",
       "      <th>year</th>\n",
       "      <th>lag</th>\n",
       "      <th>approx median Enroll</th>\n",
       "      <th>max_year</th>\n",
       "    </tr>\n",
       "  </thead>\n",
       "  <tbody>\n",
       "    <tr>\n",
       "      <th>236</th>\n",
       "      <td>African-american studies (l&amp;S)</td>\n",
       "      <td>0.161290</td>\n",
       "      <td>1.000000</td>\n",
       "      <td>5</td>\n",
       "      <td>31</td>\n",
       "      <td>2016</td>\n",
       "      <td>0.230769</td>\n",
       "      <td>3.575</td>\n",
       "      <td>2022</td>\n",
       "    </tr>\n",
       "    <tr>\n",
       "      <th>426</th>\n",
       "      <td>African-american studies (l&amp;S)</td>\n",
       "      <td>0.230769</td>\n",
       "      <td>0.555556</td>\n",
       "      <td>9</td>\n",
       "      <td>39</td>\n",
       "      <td>2019</td>\n",
       "      <td>0.303030</td>\n",
       "      <td>3.690</td>\n",
       "      <td>2022</td>\n",
       "    </tr>\n",
       "    <tr>\n",
       "      <th>636</th>\n",
       "      <td>African-american studies (l&amp;S)</td>\n",
       "      <td>0.303030</td>\n",
       "      <td>0.700000</td>\n",
       "      <td>10</td>\n",
       "      <td>33</td>\n",
       "      <td>2022</td>\n",
       "      <td>0.000000</td>\n",
       "      <td>3.360</td>\n",
       "      <td>2022</td>\n",
       "    </tr>\n",
       "    <tr>\n",
       "      <th>6</th>\n",
       "      <td>American studies (l&amp;S)</td>\n",
       "      <td>0.452381</td>\n",
       "      <td>0.789474</td>\n",
       "      <td>19</td>\n",
       "      <td>42</td>\n",
       "      <td>2012</td>\n",
       "      <td>0.416667</td>\n",
       "      <td>3.370</td>\n",
       "      <td>2022</td>\n",
       "    </tr>\n",
       "    <tr>\n",
       "      <th>63</th>\n",
       "      <td>American studies (l&amp;S)</td>\n",
       "      <td>0.416667</td>\n",
       "      <td>0.700000</td>\n",
       "      <td>10</td>\n",
       "      <td>24</td>\n",
       "      <td>2013</td>\n",
       "      <td>0.473684</td>\n",
       "      <td>3.375</td>\n",
       "      <td>2022</td>\n",
       "    </tr>\n",
       "    <tr>\n",
       "      <th>...</th>\n",
       "      <td>...</td>\n",
       "      <td>...</td>\n",
       "      <td>...</td>\n",
       "      <td>...</td>\n",
       "      <td>...</td>\n",
       "      <td>...</td>\n",
       "      <td>...</td>\n",
       "      <td>...</td>\n",
       "      <td>...</td>\n",
       "    </tr>\n",
       "    <tr>\n",
       "      <th>284</th>\n",
       "      <td>Urban studies (coed)</td>\n",
       "      <td>0.125000</td>\n",
       "      <td>1.000000</td>\n",
       "      <td>5</td>\n",
       "      <td>40</td>\n",
       "      <td>2016</td>\n",
       "      <td>0.282051</td>\n",
       "      <td>3.355</td>\n",
       "      <td>2022</td>\n",
       "    </tr>\n",
       "    <tr>\n",
       "      <th>348</th>\n",
       "      <td>Urban studies (coed)</td>\n",
       "      <td>0.282051</td>\n",
       "      <td>0.727273</td>\n",
       "      <td>11</td>\n",
       "      <td>39</td>\n",
       "      <td>2017</td>\n",
       "      <td>0.205882</td>\n",
       "      <td>3.460</td>\n",
       "      <td>2022</td>\n",
       "    </tr>\n",
       "    <tr>\n",
       "      <th>412</th>\n",
       "      <td>Urban studies (coed)</td>\n",
       "      <td>0.205882</td>\n",
       "      <td>0.714286</td>\n",
       "      <td>7</td>\n",
       "      <td>34</td>\n",
       "      <td>2018</td>\n",
       "      <td>0.225806</td>\n",
       "      <td>3.380</td>\n",
       "      <td>2022</td>\n",
       "    </tr>\n",
       "    <tr>\n",
       "      <th>620</th>\n",
       "      <td>Urban studies (coed)</td>\n",
       "      <td>0.225806</td>\n",
       "      <td>0.857143</td>\n",
       "      <td>7</td>\n",
       "      <td>31</td>\n",
       "      <td>2021</td>\n",
       "      <td>0.261905</td>\n",
       "      <td>3.735</td>\n",
       "      <td>2022</td>\n",
       "    </tr>\n",
       "    <tr>\n",
       "      <th>694</th>\n",
       "      <td>Urban studies (coed)</td>\n",
       "      <td>0.261905</td>\n",
       "      <td>0.636364</td>\n",
       "      <td>11</td>\n",
       "      <td>42</td>\n",
       "      <td>2022</td>\n",
       "      <td>0.000000</td>\n",
       "      <td>3.690</td>\n",
       "      <td>2022</td>\n",
       "    </tr>\n",
       "  </tbody>\n",
       "</table>\n",
       "<p>649 rows × 9 columns</p>\n",
       "</div>"
      ],
      "text/plain": [
       "                         Major_name  Admit_rate  Yield_rate  Admits  \\\n",
       "236  African-american studies (l&S)    0.161290    1.000000       5   \n",
       "426  African-american studies (l&S)    0.230769    0.555556       9   \n",
       "636  African-american studies (l&S)    0.303030    0.700000      10   \n",
       "6            American studies (l&S)    0.452381    0.789474      19   \n",
       "63           American studies (l&S)    0.416667    0.700000      10   \n",
       "..                              ...         ...         ...     ...   \n",
       "284            Urban studies (coed)    0.125000    1.000000       5   \n",
       "348            Urban studies (coed)    0.282051    0.727273      11   \n",
       "412            Urban studies (coed)    0.205882    0.714286       7   \n",
       "620            Urban studies (coed)    0.225806    0.857143       7   \n",
       "694            Urban studies (coed)    0.261905    0.636364      11   \n",
       "\n",
       "     Applicants  year       lag  approx median Enroll  max_year  \n",
       "236          31  2016  0.230769                 3.575      2022  \n",
       "426          39  2019  0.303030                 3.690      2022  \n",
       "636          33  2022  0.000000                 3.360      2022  \n",
       "6            42  2012  0.416667                 3.370      2022  \n",
       "63           24  2013  0.473684                 3.375      2022  \n",
       "..          ...   ...       ...                   ...       ...  \n",
       "284          40  2016  0.282051                 3.355      2022  \n",
       "348          39  2017  0.205882                 3.460      2022  \n",
       "412          34  2018  0.225806                 3.380      2022  \n",
       "620          31  2021  0.261905                 3.735      2022  \n",
       "694          42  2022  0.000000                 3.690      2022  \n",
       "\n",
       "[649 rows x 9 columns]"
      ]
     },
     "execution_count": 61,
     "metadata": {},
     "output_type": "execute_result"
    }
   ],
   "source": [
    "df"
   ]
  },
  {
   "cell_type": "code",
   "execution_count": 62,
   "metadata": {},
   "outputs": [],
   "source": [
    "test = df[df['max_year'] == df['year']]\n",
    "train = df[df['max_year'] != df['year']]\n",
    "actual = test['Admit_rate']\n",
    "train_y = train['lag']\n",
    "test_x = test.drop([\"Major_name\", \"max_year\",\"year\", \"lag\"], axis=1)\n",
    "train_x = train.drop([\"Major_name\", \"max_year\", \"year\", \"lag\"], axis=1)"
   ]
  },
  {
   "cell_type": "markdown",
   "metadata": {},
   "source": [
    "metric is RMSE, MAE, MSE "
   ]
  },
  {
   "cell_type": "code",
   "execution_count": 63,
   "metadata": {},
   "outputs": [],
   "source": [
    "from sklearn.ensemble import RandomForestRegressor\n",
    "from sklearn.datasets import make_regression\n",
    "regr = RandomForestRegressor(max_depth=2, random_state=0)\n",
    "regr.fit(train_x, train_y)\n",
    "predicted_random = regr.predict(test_x)"
   ]
  },
  {
   "cell_type": "code",
   "execution_count": 64,
   "metadata": {},
   "outputs": [],
   "source": [
    "clf = Ridge(alpha=1.0)\n",
    "clf.fit(train_x, train_y)\n",
    "predicted_ridge = clf.predict(test_x)"
   ]
  },
  {
   "cell_type": "code",
   "execution_count": 65,
   "metadata": {},
   "outputs": [],
   "source": [
    "# loading library\n",
    "import pickle\n",
    "# create an iterator object with write permission - model.pkl\n",
    "with open('models/ridge_berk_pkl', 'wb') as files:\n",
    "    pickle.dump(clf, files)"
   ]
  },
  {
   "cell_type": "code",
   "execution_count": 66,
   "metadata": {},
   "outputs": [
    {
     "name": "stderr",
     "output_type": "stream",
     "text": [
      "/var/folders/h0/sl38029x0_j4khlt53w1_8y00000gn/T/ipykernel_82197/2758274165.py:1: SettingWithCopyWarning: \n",
      "A value is trying to be set on a copy of a slice from a DataFrame.\n",
      "Try using .loc[row_indexer,col_indexer] = value instead\n",
      "\n",
      "See the caveats in the documentation: https://pandas.pydata.org/pandas-docs/stable/user_guide/indexing.html#returning-a-view-versus-a-copy\n",
      "  test['predicted_ridge'] = predicted_ridge\n",
      "/var/folders/h0/sl38029x0_j4khlt53w1_8y00000gn/T/ipykernel_82197/2758274165.py:2: SettingWithCopyWarning: \n",
      "A value is trying to be set on a copy of a slice from a DataFrame.\n",
      "Try using .loc[row_indexer,col_indexer] = value instead\n",
      "\n",
      "See the caveats in the documentation: https://pandas.pydata.org/pandas-docs/stable/user_guide/indexing.html#returning-a-view-versus-a-copy\n",
      "  test['predicted_random'] = predicted_random\n",
      "/var/folders/h0/sl38029x0_j4khlt53w1_8y00000gn/T/ipykernel_82197/2758274165.py:3: SettingWithCopyWarning: \n",
      "A value is trying to be set on a copy of a slice from a DataFrame.\n",
      "Try using .loc[row_indexer,col_indexer] = value instead\n",
      "\n",
      "See the caveats in the documentation: https://pandas.pydata.org/pandas-docs/stable/user_guide/indexing.html#returning-a-view-versus-a-copy\n",
      "  test['this_year'] = actual\n"
     ]
    }
   ],
   "source": [
    "test['predicted_ridge'] = predicted_ridge\n",
    "test['predicted_random'] = predicted_random\n",
    "test['this_year'] = actual"
   ]
  },
  {
   "cell_type": "code",
   "execution_count": 78,
   "metadata": {},
   "outputs": [
    {
     "data": {
      "text/html": [
       "<div>\n",
       "<style scoped>\n",
       "    .dataframe tbody tr th:only-of-type {\n",
       "        vertical-align: middle;\n",
       "    }\n",
       "\n",
       "    .dataframe tbody tr th {\n",
       "        vertical-align: top;\n",
       "    }\n",
       "\n",
       "    .dataframe thead th {\n",
       "        text-align: right;\n",
       "    }\n",
       "</style>\n",
       "<table border=\"1\" class=\"dataframe\">\n",
       "  <thead>\n",
       "    <tr style=\"text-align: right;\">\n",
       "      <th></th>\n",
       "      <th>Admit_rate</th>\n",
       "      <th>Yield_rate</th>\n",
       "      <th>Admits</th>\n",
       "      <th>Applicants</th>\n",
       "      <th>approx median Enroll</th>\n",
       "    </tr>\n",
       "  </thead>\n",
       "  <tbody>\n",
       "    <tr>\n",
       "      <th>636</th>\n",
       "      <td>0.30303</td>\n",
       "      <td>0.7</td>\n",
       "      <td>10.0</td>\n",
       "      <td>33.0</td>\n",
       "      <td>3.36</td>\n",
       "    </tr>\n",
       "  </tbody>\n",
       "</table>\n",
       "</div>"
      ],
      "text/plain": [
       "     Admit_rate  Yield_rate  Admits  Applicants  approx median Enroll\n",
       "636     0.30303         0.7    10.0        33.0                  3.36"
      ]
     },
     "execution_count": 78,
     "metadata": {},
     "output_type": "execute_result"
    }
   ],
   "source": [
    "test_x.iloc[[0]].astype(float)"
   ]
  },
  {
   "cell_type": "code",
   "execution_count": 80,
   "metadata": {},
   "outputs": [
    {
     "data": {
      "text/plain": [
       "0.3442709510200563"
      ]
     },
     "execution_count": 80,
     "metadata": {},
     "output_type": "execute_result"
    }
   ],
   "source": [
    "clf.predict(test_x.iloc[[0]])[0]"
   ]
  },
  {
   "cell_type": "code",
   "execution_count": 68,
   "metadata": {},
   "outputs": [
    {
     "name": "stderr",
     "output_type": "stream",
     "text": [
      "/var/folders/h0/sl38029x0_j4khlt53w1_8y00000gn/T/ipykernel_82197/1534458401.py:1: FutureWarning: The default value of numeric_only in DataFrame.corr is deprecated. In a future version, it will default to False. Select only valid columns or specify the value of numeric_only to silence this warning.\n",
      "  sns.heatmap(train.corr(), annot=True)\n"
     ]
    },
    {
     "data": {
      "text/plain": [
       "<Axes: >"
      ]
     },
     "execution_count": 68,
     "metadata": {},
     "output_type": "execute_result"
    },
    {
     "data": {
      "image/png": "[encoded data removed]",
      "text/plain": [
       "<Figure size 640x480 with 2 Axes>"
      ]
     },
     "metadata": {},
     "output_type": "display_data"
    }
   ],
   "source": [
    "sns.heatmap(train.corr(), annot=True)"
   ]
  }
 ],
 "metadata": {
  "kernelspec": {
   "display_name": "Python 3",
   "language": "python",
   "name": "python3"
  },
  "language_info": {
   "codemirror_mode": {
    "name": "ipython",
    "version": 3
   },
   "file_extension": ".py",
   "mimetype": "text/x-python",
   "name": "python",
   "nbconvert_exporter": "python",
   "pygments_lexer": "ipython3",
   "version": "3.10.6"
  },
  "orig_nbformat": 4
 },
 "nbformat": 4,
 "nbformat_minor": 2
}
