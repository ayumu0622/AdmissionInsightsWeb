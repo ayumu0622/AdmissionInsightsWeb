{
  "cells": [
    {
      "cell_type": "code",
      "execution_count": 1,
      "metadata": {
        "id": "-kBFPYploIGf"
      },
      "outputs": [],
      "source": [
        "import pandas as pd\n",
        "import plotly.graph_objects as go"
      ]
    },
    {
      "cell_type": "code",
      "execution_count": 2,
      "metadata": {},
      "outputs": [],
      "source": [
        "df_2022 = pd.read_csv('/Users/ayumuueda/Desktop/UC-Transfer-Analyzer/data/2022berkeley.csv')"
      ]
    },
    {
      "cell_type": "code",
      "execution_count": 3,
      "metadata": {},
      "outputs": [],
      "source": [
        "df_2022['year'] = 2022"
      ]
    },
    {
      "cell_type": "code",
      "execution_count": 5,
      "metadata": {},
      "outputs": [],
      "source": [
        "df_2022.to_csv('/Users/ayumuueda/Desktop/UC-Transfer-Analyzer/data/2022berkeley_withyear.csv', index=False)"
      ]
    },
    {
      "cell_type": "code",
      "execution_count": 683,
      "metadata": {},
      "outputs": [],
      "source": [
        "def load_data():\n",
        "    df_2022 = pd.read_csv('/Users/ayumuueda/Desktop/tbm/2022berkeley.csv')\n",
        "    df_2021 = pd.read_csv('/Users/ayumuueda/Desktop/tbm/2021berkeley.csv')\n",
        "    df_2020 = pd.read_csv('/Users/ayumuueda/Desktop/tbm/2020berkeley.csv')\n",
        "    df_2019 = pd.read_csv('/Users/ayumuueda/Desktop/tbm/2019berkeley.csv')\n",
        "    df_2018 = pd.read_csv('/Users/ayumuueda/Desktop/tbm/2018berkeley.csv')\n",
        "    return df_2018, df_2019, df_2020, df_2021, df_2022"
      ]
    },
    {
      "cell_type": "code",
      "execution_count": 684,
      "metadata": {},
      "outputs": [],
      "source": [
        "df_2018, df_2019, df_2020, df_2021, df_2022 = load_data()"
      ]
    },
    {
      "cell_type": "code",
      "execution_count": 692,
      "metadata": {},
      "outputs": [
        {
          "name": "stderr",
          "output_type": "stream",
          "text": [
            "/var/folders/h0/sl38029x0_j4khlt53w1_8y00000gn/T/ipykernel_84310/3946850655.py:1: FutureWarning:\n",
            "\n",
            "The error_bad_lines argument has been deprecated and will be removed in a future version. Use on_bad_lines in the future.\n",
            "\n",
            "\n",
            "\n"
          ]
        }
      ],
      "source": [
        "la_2022 = pd.read_csv('/Users/ayumuueda/Desktop/tbm/ucla2022.csv', error_bad_lines=False, encoding='utf-16',sep = '\\t')"
      ]
    },
    {
      "cell_type": "code",
      "execution_count": 693,
      "metadata": {},
      "outputs": [
        {
          "data": {
            "text/html": [
              "<div>\n",
              "<style scoped>\n",
              "    .dataframe tbody tr th:only-of-type {\n",
              "        vertical-align: middle;\n",
              "    }\n",
              "\n",
              "    .dataframe tbody tr th {\n",
              "        vertical-align: top;\n",
              "    }\n",
              "\n",
              "    .dataframe thead th {\n",
              "        text-align: right;\n",
              "    }\n",
              "</style>\n",
              "<table border=\"1\" class=\"dataframe\">\n",
              "  <thead>\n",
              "    <tr style=\"text-align: right;\">\n",
              "      <th></th>\n",
              "      <th>Broad discipline</th>\n",
              "      <th>College/School</th>\n",
              "      <th>Major name</th>\n",
              "      <th>Admit GPA range</th>\n",
              "      <th>Admit rate</th>\n",
              "      <th>Enroll GPA range</th>\n",
              "      <th>Yield rate</th>\n",
              "      <th>Admits</th>\n",
              "      <th>Applicants</th>\n",
              "      <th>Enrolls</th>\n",
              "    </tr>\n",
              "  </thead>\n",
              "  <tbody>\n",
              "    <tr>\n",
              "      <th>0</th>\n",
              "      <td>Agriculture &amp; Natural Resources</td>\n",
              "      <td>College Of Letters &amp; science</td>\n",
              "      <td>Environmental economics &amp; policy</td>\n",
              "      <td>3.75 - 4.00</td>\n",
              "      <td>0.290076</td>\n",
              "      <td>3.72 - 3.96</td>\n",
              "      <td>0.842105</td>\n",
              "      <td>38</td>\n",
              "      <td>131</td>\n",
              "      <td>32</td>\n",
              "    </tr>\n",
              "    <tr>\n",
              "      <th>1</th>\n",
              "      <td>Agriculture &amp; Natural Resources</td>\n",
              "      <td>College Of Letters &amp; science</td>\n",
              "      <td>Geography</td>\n",
              "      <td>3.50 - 3.90</td>\n",
              "      <td>0.272727</td>\n",
              "      <td>3.44 - 3.92</td>\n",
              "      <td>0.619048</td>\n",
              "      <td>21</td>\n",
              "      <td>77</td>\n",
              "      <td>13</td>\n",
              "    </tr>\n",
              "    <tr>\n",
              "      <th>2</th>\n",
              "      <td>Agriculture &amp; Natural Resources</td>\n",
              "      <td>College Of Natural resources</td>\n",
              "      <td>Conservation &amp; resource studies</td>\n",
              "      <td>3.55 - 3.83</td>\n",
              "      <td>0.412698</td>\n",
              "      <td>3.36 - 3.77</td>\n",
              "      <td>0.730769</td>\n",
              "      <td>26</td>\n",
              "      <td>63</td>\n",
              "      <td>19</td>\n",
              "    </tr>\n",
              "    <tr>\n",
              "      <th>3</th>\n",
              "      <td>Agriculture &amp; Natural Resources</td>\n",
              "      <td>College Of Natural resources</td>\n",
              "      <td>Ecosystem management and forestry - forestry</td>\n",
              "      <td>3.24 - 3.63</td>\n",
              "      <td>0.700000</td>\n",
              "      <td>masked</td>\n",
              "      <td>0.571429</td>\n",
              "      <td>7</td>\n",
              "      <td>10</td>\n",
              "      <td>4</td>\n",
              "    </tr>\n",
              "    <tr>\n",
              "      <th>4</th>\n",
              "      <td>Agriculture &amp; Natural Resources</td>\n",
              "      <td>College Of Natural resources</td>\n",
              "      <td>Environmental economics &amp; policy</td>\n",
              "      <td>3.62 - 3.92</td>\n",
              "      <td>0.300000</td>\n",
              "      <td>3.58 - 3.92</td>\n",
              "      <td>0.787879</td>\n",
              "      <td>33</td>\n",
              "      <td>110</td>\n",
              "      <td>26</td>\n",
              "    </tr>\n",
              "    <tr>\n",
              "      <th>...</th>\n",
              "      <td>...</td>\n",
              "      <td>...</td>\n",
              "      <td>...</td>\n",
              "      <td>...</td>\n",
              "      <td>...</td>\n",
              "      <td>...</td>\n",
              "      <td>...</td>\n",
              "      <td>...</td>\n",
              "      <td>...</td>\n",
              "      <td>...</td>\n",
              "    </tr>\n",
              "    <tr>\n",
              "      <th>75</th>\n",
              "      <td>Social Sciences</td>\n",
              "      <td>College Of Letters &amp; science</td>\n",
              "      <td>Anthropology</td>\n",
              "      <td>3.70 - 3.95</td>\n",
              "      <td>0.283422</td>\n",
              "      <td>3.62 - 3.94</td>\n",
              "      <td>0.471698</td>\n",
              "      <td>106</td>\n",
              "      <td>374</td>\n",
              "      <td>50</td>\n",
              "    </tr>\n",
              "    <tr>\n",
              "      <th>76</th>\n",
              "      <td>Social Sciences</td>\n",
              "      <td>College Of Letters &amp; science</td>\n",
              "      <td>Economics</td>\n",
              "      <td>3.81 - 4.00</td>\n",
              "      <td>0.194066</td>\n",
              "      <td>3.80 - 4.00</td>\n",
              "      <td>0.752066</td>\n",
              "      <td>242</td>\n",
              "      <td>1247</td>\n",
              "      <td>182</td>\n",
              "    </tr>\n",
              "    <tr>\n",
              "      <th>77</th>\n",
              "      <td>Social Sciences</td>\n",
              "      <td>College Of Letters &amp; science</td>\n",
              "      <td>Political economy</td>\n",
              "      <td>3.71 - 3.93</td>\n",
              "      <td>0.268456</td>\n",
              "      <td>3.75 - 3.93</td>\n",
              "      <td>0.625000</td>\n",
              "      <td>40</td>\n",
              "      <td>149</td>\n",
              "      <td>25</td>\n",
              "    </tr>\n",
              "    <tr>\n",
              "      <th>78</th>\n",
              "      <td>Social Sciences</td>\n",
              "      <td>College Of Letters &amp; science</td>\n",
              "      <td>Political science</td>\n",
              "      <td>3.74 - 4.00</td>\n",
              "      <td>0.292639</td>\n",
              "      <td>3.70 - 3.93</td>\n",
              "      <td>0.546012</td>\n",
              "      <td>326</td>\n",
              "      <td>1114</td>\n",
              "      <td>178</td>\n",
              "    </tr>\n",
              "    <tr>\n",
              "      <th>79</th>\n",
              "      <td>Social Sciences</td>\n",
              "      <td>College Of Letters &amp; science</td>\n",
              "      <td>Sociology</td>\n",
              "      <td>3.68 - 3.94</td>\n",
              "      <td>0.247343</td>\n",
              "      <td>3.55 - 3.93</td>\n",
              "      <td>0.468750</td>\n",
              "      <td>256</td>\n",
              "      <td>1035</td>\n",
              "      <td>120</td>\n",
              "    </tr>\n",
              "  </tbody>\n",
              "</table>\n",
              "<p>80 rows × 10 columns</p>\n",
              "</div>"
            ],
            "text/plain": [
              "                  Broad discipline                College/School   \\\n",
              "0   Agriculture & Natural Resources  College Of Letters & science   \n",
              "1   Agriculture & Natural Resources  College Of Letters & science   \n",
              "2   Agriculture & Natural Resources  College Of Natural resources   \n",
              "3   Agriculture & Natural Resources  College Of Natural resources   \n",
              "4   Agriculture & Natural Resources  College Of Natural resources   \n",
              "..                              ...                           ...   \n",
              "75                  Social Sciences  College Of Letters & science   \n",
              "76                  Social Sciences  College Of Letters & science   \n",
              "77                  Social Sciences  College Of Letters & science   \n",
              "78                  Social Sciences  College Of Letters & science   \n",
              "79                  Social Sciences  College Of Letters & science   \n",
              "\n",
              "                                      Major name Admit GPA range  Admit rate  \\\n",
              "0               Environmental economics & policy     3.75 - 4.00    0.290076   \n",
              "1                                      Geography     3.50 - 3.90    0.272727   \n",
              "2                Conservation & resource studies     3.55 - 3.83    0.412698   \n",
              "3   Ecosystem management and forestry - forestry     3.24 - 3.63    0.700000   \n",
              "4               Environmental economics & policy     3.62 - 3.92    0.300000   \n",
              "..                                           ...             ...         ...   \n",
              "75                                  Anthropology     3.70 - 3.95    0.283422   \n",
              "76                                     Economics     3.81 - 4.00    0.194066   \n",
              "77                             Political economy     3.71 - 3.93    0.268456   \n",
              "78                             Political science     3.74 - 4.00    0.292639   \n",
              "79                                     Sociology     3.68 - 3.94    0.247343   \n",
              "\n",
              "   Enroll GPA range  Yield rate  Admits  Applicants  Enrolls  \n",
              "0       3.72 - 3.96    0.842105      38         131       32  \n",
              "1       3.44 - 3.92    0.619048      21          77       13  \n",
              "2       3.36 - 3.77    0.730769      26          63       19  \n",
              "3            masked    0.571429       7          10        4  \n",
              "4       3.58 - 3.92    0.787879      33         110       26  \n",
              "..              ...         ...     ...         ...      ...  \n",
              "75      3.62 - 3.94    0.471698     106         374       50  \n",
              "76      3.80 - 4.00    0.752066     242        1247      182  \n",
              "77      3.75 - 3.93    0.625000      40         149       25  \n",
              "78      3.70 - 3.93    0.546012     326        1114      178  \n",
              "79      3.55 - 3.93    0.468750     256        1035      120  \n",
              "\n",
              "[80 rows x 10 columns]"
            ]
          },
          "execution_count": 693,
          "metadata": {},
          "output_type": "execute_result"
        }
      ],
      "source": [
        "la_2022"
      ]
    },
    {
      "cell_type": "code",
      "execution_count": 482,
      "metadata": {
        "colab": {
          "base_uri": "https://localhost:8080/"
        },
        "id": "QQQIRQA1scXK",
        "outputId": "50452d00-ea5a-4d14-b601-5294a1d5578b"
      },
      "outputs": [],
      "source": [
        "# df_2022 = pd.read_csv('/Users/ayumuueda/Desktop/tbm/2022berkeley.csv', delimiter='\\t', encoding='utf-16', error_bad_lines=False)\n",
        "# def delete_row(df):\n",
        "#   df = df.drop(['Broad discipline ', 'College/School '], axis=1)\n",
        "#   return df\n",
        "# df_2022 = delete_row(df_2022)\n"
      ]
    },
    {
      "cell_type": "code",
      "execution_count": null,
      "metadata": {},
      "outputs": [],
      "source": []
    },
    {
      "cell_type": "code",
      "execution_count": 483,
      "metadata": {},
      "outputs": [],
      "source": [
        "def change_major(dff):\n",
        "    dff.loc[(dff['Major name'] == \"Chemistry\") & (dff['Applicants'] > 100),'Major name'] = 'chemistry(college of chem)'\n",
        "    dff.loc[(dff['Major name'] == \"Chemistry\") & (dff['Applicants'] < 100),'Major name'] = 'chemistry(college of l&s)'\n",
        "    return dff"
      ]
    },
    {
      "cell_type": "code",
      "execution_count": 484,
      "metadata": {},
      "outputs": [],
      "source": [
        "def change_major2(df):\n",
        "\n",
        "    dff = df.loc[(df['Major name'] == 'Environmental economics & policy')]\n",
        "    indexnum = dff.index\n",
        "\n",
        "    for k, i in enumerate(indexnum):\n",
        "        if k == 0:\n",
        "            df.at[i,'Major name'] = 'Environmental economics & policy(college of l&s)'\n",
        "        else:\n",
        "            df.at[i,'Major name'] = 'Environmental economics & policy(college of natural resources)'\n",
        "    return df"
      ]
    },
    {
      "cell_type": "code",
      "execution_count": 485,
      "metadata": {},
      "outputs": [],
      "source": [
        "df_2018 = change_major(df_2018)\n",
        "df_2019 = change_major(df_2019)\n",
        "df_2020 = change_major(df_2020)\n",
        "df_2021 = change_major(df_2021)\n",
        "df_2022 = change_major(df_2022)"
      ]
    },
    {
      "cell_type": "code",
      "execution_count": 486,
      "metadata": {},
      "outputs": [],
      "source": [
        "df_2018 = change_major2(df_2018)\n",
        "df_2019 = change_major2(df_2019)\n",
        "df_2020 = change_major2(df_2020)\n",
        "df_2021 = change_major2(df_2021)\n",
        "df_2022 = change_major2(df_2022)"
      ]
    },
    {
      "cell_type": "code",
      "execution_count": 487,
      "metadata": {},
      "outputs": [
        {
          "ename": "TypeError",
          "evalue": "cannot convert the series to <class 'int'>",
          "output_type": "error",
          "traceback": [
            "\u001b[0;31m---------------------------------------------------------------------------\u001b[0m",
            "\u001b[0;31mTypeError\u001b[0m                                 Traceback (most recent call last)",
            "Cell \u001b[0;32mIn[487], line 5\u001b[0m\n\u001b[1;32m      2\u001b[0m df_2018\u001b[39m.\u001b[39mloc[(df_2018[\u001b[39m'\u001b[39m\u001b[39mMajor name\u001b[39m\u001b[39m'\u001b[39m] \u001b[39m==\u001b[39m \u001b[39m'\u001b[39m\u001b[39mSpanish\u001b[39m\u001b[39m'\u001b[39m), \u001b[39m'\u001b[39m\u001b[39mAdmit GPA range\u001b[39m\u001b[39m'\u001b[39m] \u001b[39m=\u001b[39m \u001b[39m'\u001b[39m\u001b[39m3.35 - 3.80\u001b[39m\u001b[39m'\u001b[39m\n\u001b[1;32m      4\u001b[0m \u001b[39mfor\u001b[39;00m col \u001b[39min\u001b[39;00m [\u001b[39m'\u001b[39m\u001b[39mAdmit rate\u001b[39m\u001b[39m'\u001b[39m, \u001b[39m'\u001b[39m\u001b[39mYield rate\u001b[39m\u001b[39m'\u001b[39m]:\n\u001b[0;32m----> 5\u001b[0m     df_2018\u001b[39m.\u001b[39mloc[(df_2018[\u001b[39m'\u001b[39m\u001b[39mMajor name\u001b[39m\u001b[39m'\u001b[39m] \u001b[39m==\u001b[39m \u001b[39m'\u001b[39m\u001b[39mSpanish\u001b[39m\u001b[39m'\u001b[39m),col] \u001b[39m=\u001b[39m \u001b[39mint\u001b[39;49m(df_2018\u001b[39m.\u001b[39;49mloc[(df_2018[\u001b[39m'\u001b[39;49m\u001b[39mMajor name\u001b[39;49m\u001b[39m'\u001b[39;49m] \u001b[39m==\u001b[39;49m \u001b[39m'\u001b[39;49m\u001b[39mSpanish\u001b[39;49m\u001b[39m'\u001b[39;49m),col])  \u001b[39m+\u001b[39m \u001b[39mint\u001b[39m(df_2018\u001b[39m.\u001b[39mloc[(df_2018[\u001b[39m'\u001b[39m\u001b[39mMajor name\u001b[39m\u001b[39m'\u001b[39m] \u001b[39m==\u001b[39m \u001b[39m'\u001b[39m\u001b[39mSpanish - option d\u001b[39m\u001b[39m'\u001b[39m),col] )\n\u001b[1;32m      7\u001b[0m \u001b[39mfor\u001b[39;00m col \u001b[39min\u001b[39;00m [\u001b[39m'\u001b[39m\u001b[39mAdmits\u001b[39m\u001b[39m'\u001b[39m, \u001b[39m'\u001b[39m\u001b[39mApplicants\u001b[39m\u001b[39m'\u001b[39m, \u001b[39m'\u001b[39m\u001b[39mEnrolls\u001b[39m\u001b[39m'\u001b[39m]:\n\u001b[1;32m      8\u001b[0m     df_2018\u001b[39m.\u001b[39mloc[(df_2018[\u001b[39m'\u001b[39m\u001b[39mMajor name\u001b[39m\u001b[39m'\u001b[39m] \u001b[39m==\u001b[39m \u001b[39m'\u001b[39m\u001b[39mSpanish\u001b[39m\u001b[39m'\u001b[39m),col] \u001b[39m=\u001b[39m \u001b[39mint\u001b[39m(df_2018\u001b[39m.\u001b[39mloc[(df_2018[\u001b[39m'\u001b[39m\u001b[39mMajor name\u001b[39m\u001b[39m'\u001b[39m] \u001b[39m==\u001b[39m \u001b[39m'\u001b[39m\u001b[39mSpanish\u001b[39m\u001b[39m'\u001b[39m),col])  \u001b[39m+\u001b[39m \u001b[39mint\u001b[39m(df_2018\u001b[39m.\u001b[39mloc[(df_2018[\u001b[39m'\u001b[39m\u001b[39mMajor name\u001b[39m\u001b[39m'\u001b[39m] \u001b[39m==\u001b[39m \u001b[39m'\u001b[39m\u001b[39mSpanish - option d\u001b[39m\u001b[39m'\u001b[39m),col] )\n",
            "File \u001b[0;32m~/Desktop/tbm/env/lib/python3.10/site-packages/pandas/core/series.py:206\u001b[0m, in \u001b[0;36m_coerce_method.<locals>.wrapper\u001b[0;34m(self)\u001b[0m\n\u001b[1;32m    204\u001b[0m \u001b[39mif\u001b[39;00m \u001b[39mlen\u001b[39m(\u001b[39mself\u001b[39m) \u001b[39m==\u001b[39m \u001b[39m1\u001b[39m:\n\u001b[1;32m    205\u001b[0m     \u001b[39mreturn\u001b[39;00m converter(\u001b[39mself\u001b[39m\u001b[39m.\u001b[39miloc[\u001b[39m0\u001b[39m])\n\u001b[0;32m--> 206\u001b[0m \u001b[39mraise\u001b[39;00m \u001b[39mTypeError\u001b[39;00m(\u001b[39mf\u001b[39m\u001b[39m\"\u001b[39m\u001b[39mcannot convert the series to \u001b[39m\u001b[39m{\u001b[39;00mconverter\u001b[39m}\u001b[39;00m\u001b[39m\"\u001b[39m)\n",
            "\u001b[0;31mTypeError\u001b[0m: cannot convert the series to <class 'int'>"
          ]
        }
      ],
      "source": [
        "df_2018.loc[(df_2018['Major name'] == 'Spanish'), 'Enroll GPA range'] = '3.22 - 3.55'\n",
        "df_2018.loc[(df_2018['Major name'] == 'Spanish'), 'Admit GPA range'] = '3.35 - 3.80'\n",
        "\n",
        "for col in ['Admit rate', 'Yield rate']:\n",
        "    df_2018.loc[(df_2018['Major name'] == 'Spanish'),col] = int(df_2018.loc[(df_2018['Major name'] == 'Spanish'),col])  + int(df_2018.loc[(df_2018['Major name'] == 'Spanish - option d'),col] )\n",
        "\n",
        "for col in ['Admits', 'Applicants', 'Enrolls']:\n",
        "    df_2018.loc[(df_2018['Major name'] == 'Spanish'),col] = int(df_2018.loc[(df_2018['Major name'] == 'Spanish'),col])  + int(df_2018.loc[(df_2018['Major name'] == 'Spanish - option d'),col] )\n",
        "\n",
        "df_2018 = df_2018.drop(47)\n",
        "df_2018.loc[(df_2018['Major name'] == 'Spanish'),'Major name'] = 'Spanish / portuguese'"
      ]
    },
    {
      "cell_type": "code",
      "execution_count": 619,
      "metadata": {},
      "outputs": [],
      "source": [
        "criteria = df_2018['Major name'].map(lambda x: x.startswith('Spanish'))\n",
        "table1 = df_2018[criteria]"
      ]
    },
    {
      "cell_type": "code",
      "execution_count": 620,
      "metadata": {},
      "outputs": [
        {
          "data": {
            "text/html": [
              "<div>\n",
              "<style scoped>\n",
              "    .dataframe tbody tr th:only-of-type {\n",
              "        vertical-align: middle;\n",
              "    }\n",
              "\n",
              "    .dataframe tbody tr th {\n",
              "        vertical-align: top;\n",
              "    }\n",
              "\n",
              "    .dataframe thead th {\n",
              "        text-align: right;\n",
              "    }\n",
              "</style>\n",
              "<table border=\"1\" class=\"dataframe\">\n",
              "  <thead>\n",
              "    <tr style=\"text-align: right;\">\n",
              "      <th></th>\n",
              "      <th>Major name</th>\n",
              "      <th>Admit GPA range</th>\n",
              "      <th>Admit rate</th>\n",
              "      <th>Enroll GPA range</th>\n",
              "      <th>Yield rate</th>\n",
              "      <th>Admits</th>\n",
              "      <th>Applicants</th>\n",
              "      <th>Enrolls</th>\n",
              "    </tr>\n",
              "  </thead>\n",
              "  <tbody>\n",
              "    <tr>\n",
              "      <th>42</th>\n",
              "      <td>Spanish/portuguese</td>\n",
              "      <td>3.35 - 3.80</td>\n",
              "      <td>0.44</td>\n",
              "      <td>3.22 - 3.55</td>\n",
              "      <td>55.0</td>\n",
              "      <td>30</td>\n",
              "      <td>69</td>\n",
              "      <td>15</td>\n",
              "    </tr>\n",
              "  </tbody>\n",
              "</table>\n",
              "</div>"
            ],
            "text/plain": [
              "            Major name Admit GPA range  Admit rate Enroll GPA range  \\\n",
              "42  Spanish/portuguese     3.35 - 3.80        0.44      3.22 - 3.55   \n",
              "\n",
              "    Yield rate  Admits  Applicants  Enrolls  \n",
              "42        55.0      30          69       15  "
            ]
          },
          "execution_count": 620,
          "metadata": {},
          "output_type": "execute_result"
        }
      ],
      "source": [
        "table1"
      ]
    },
    {
      "cell_type": "code",
      "execution_count": null,
      "metadata": {},
      "outputs": [],
      "source": [
        "criteria = df_2018['Major name'].map(lambda x: x.startswith('Molecular &'))\n",
        "table1 = df_2018[criteria]\n",
        "df_2018.loc[15, ['Admits', 'Applicants', 'Enrolls']] = table1[['Admits', 'Applicants', 'Enrolls']].sum()\n",
        "df_2018.loc[15, ['Admit rate', 'Yield rate']] = table1[['Admit rate', 'Yield rate']].mean()\n",
        "df_2018 = df_2018.drop([16,17,18,19])\n",
        "df_2018.loc[(df_2018['Major name'] == 'Molecular & cell biology - pl1 - 1'),'Major name'] = 'Molecular & cell biology'"
      ]
    },
    {
      "cell_type": "code",
      "execution_count": null,
      "metadata": {},
      "outputs": [],
      "source": [
        "criteria = df_2019['Major name'].map(lambda x: x.startswith('Molecular &'))\n",
        "table1 = df_2019[criteria]\n",
        "df_2019.loc[17, ['Admits', 'Applicants', 'Enrolls']] = table1[['Admits', 'Applicants', 'Enrolls']].sum()\n",
        "df_2019.loc[17, ['Admit rate', 'Yield rate']] = table1[['Admit rate', 'Yield rate']].mean()\n",
        "df_2019 = df_2019.drop([18,19,20,21])\n",
        "df_2019.loc[(df_2019['Major name'] == 'Molecular & cell biology - pl1 - 1'),'Major name'] = 'Molecular & cell biology'"
      ]
    },
    {
      "attachments": {},
      "cell_type": "markdown",
      "metadata": {},
      "source": [
        "#spanish -d + spanish for 2018\n",
        "#molecular 2018, 2019"
      ]
    },
    {
      "cell_type": "code",
      "execution_count": null,
      "metadata": {},
      "outputs": [],
      "source": []
    },
    {
      "cell_type": "code",
      "execution_count": null,
      "metadata": {},
      "outputs": [],
      "source": [
        "df_2020 = df_2020.reset_index(drop=True)\n",
        "df_2019 = df_2019.reset_index(drop=True)\n",
        "df_2018 = df_2018.reset_index(drop=True)\n",
        "df_2021 = df_2021.reset_index(drop=True)\n",
        "df_2022 = df_2022.reset_index(drop=True)"
      ]
    },
    {
      "cell_type": "code",
      "execution_count": 688,
      "metadata": {},
      "outputs": [],
      "source": [
        "# df_2018.to_csv('/Users/ayumuueda/Desktop/tbm/2018berkeley.csv',index = False)\n",
        "# df_2019.to_csv('/Users/ayumuueda/Desktop/tbm/2019berkeley.csv',index = False)\n",
        "# df_2020.to_csv('/Users/ayumuueda/Desktop/tbm/2020berkeley.csv',index = False)\n",
        "# df_2021.to_csv('/Users/ayumuueda/Desktop/tbm/2021berkeley.csv',index = False)\n",
        "# df_2022.to_csv('/Users/ayumuueda/Desktop/tbm/2022berkeley.csv',index = False)"
      ]
    },
    {
      "cell_type": "code",
      "execution_count": null,
      "metadata": {},
      "outputs": [
        {
          "data": {
            "text/plain": [
              "{'Engineering physics',\n",
              " 'Forestry & natural resources',\n",
              " 'French',\n",
              " 'Landscape architecture',\n",
              " 'Near eastern civilizations',\n",
              " 'Operations research & management science',\n",
              " 'Sustainable environmental design'}"
            ]
          },
          "execution_count": 386,
          "metadata": {},
          "output_type": "execute_result"
        }
      ],
      "source": [
        "set(df_2018['Major name'].values.tolist()).difference(set(df_2022['Major name'].values.tolist()))"
      ]
    },
    {
      "cell_type": "code",
      "execution_count": null,
      "metadata": {},
      "outputs": [
        {
          "data": {
            "text/plain": [
              "{'Ancient greek and roman studies',\n",
              " 'Asian american and asian diaspora studies',\n",
              " 'Chicano studies',\n",
              " 'Dance & performance studies',\n",
              " 'Data science',\n",
              " 'Ecosystem management and forestry - forestry',\n",
              " 'Ecosystem management and forestry - natural resource management',\n",
              " 'Environmental earth science',\n",
              " 'Nuclear engineering'}"
            ]
          },
          "execution_count": 387,
          "metadata": {},
          "output_type": "execute_result"
        }
      ],
      "source": [
        "set(df_2022['Major name'].values.tolist()).difference(set(df_2018['Major name'].values.tolist()))"
      ]
    },
    {
      "cell_type": "code",
      "execution_count": null,
      "metadata": {},
      "outputs": [
        {
          "data": {
            "text/html": [
              "<div>\n",
              "<style scoped>\n",
              "    .dataframe tbody tr th:only-of-type {\n",
              "        vertical-align: middle;\n",
              "    }\n",
              "\n",
              "    .dataframe tbody tr th {\n",
              "        vertical-align: top;\n",
              "    }\n",
              "\n",
              "    .dataframe thead th {\n",
              "        text-align: right;\n",
              "    }\n",
              "</style>\n",
              "<table border=\"1\" class=\"dataframe\">\n",
              "  <thead>\n",
              "    <tr style=\"text-align: right;\">\n",
              "      <th></th>\n",
              "      <th>Major name</th>\n",
              "      <th>Admit GPA range</th>\n",
              "      <th>Admit rate</th>\n",
              "      <th>Enroll GPA range</th>\n",
              "      <th>Yield rate</th>\n",
              "      <th>Admits</th>\n",
              "      <th>Applicants</th>\n",
              "      <th>Enrolls</th>\n",
              "    </tr>\n",
              "  </thead>\n",
              "  <tbody>\n",
              "  </tbody>\n",
              "</table>\n",
              "</div>"
            ],
            "text/plain": [
              "Empty DataFrame\n",
              "Columns: [Major name, Admit GPA range, Admit rate, Enroll GPA range, Yield rate, Admits, Applicants, Enrolls]\n",
              "Index: []"
            ]
          },
          "execution_count": 388,
          "metadata": {},
          "output_type": "execute_result"
        }
      ],
      "source": [
        "df_2018[(df_2018['Major name'] == 'Spanish') | (df_2018['Major name']=='Spanish - option d')]"
      ]
    },
    {
      "cell_type": "code",
      "execution_count": null,
      "metadata": {},
      "outputs": [
        {
          "ename": "SyntaxError",
          "evalue": "invalid syntax (1433377747.py, line 1)",
          "output_type": "error",
          "traceback": [
            "\u001b[0;36m  Cell \u001b[0;32mIn[389], line 1\u001b[0;36m\u001b[0m\n\u001b[0;31m    Spanish/portuguse in 2022 are Spanish in 2018\u001b[0m\n\u001b[0m                              ^\u001b[0m\n\u001b[0;31mSyntaxError\u001b[0m\u001b[0;31m:\u001b[0m invalid syntax\n"
          ]
        }
      ],
      "source": [
        "Spanish/portuguse in 2022 are Spanish in 2018\n",
        "molculer bio"
      ]
    },
    {
      "cell_type": "code",
      "execution_count": null,
      "metadata": {},
      "outputs": [
        {
          "data": {
            "text/html": [
              "<div>\n",
              "<style scoped>\n",
              "    .dataframe tbody tr th:only-of-type {\n",
              "        vertical-align: middle;\n",
              "    }\n",
              "\n",
              "    .dataframe tbody tr th {\n",
              "        vertical-align: top;\n",
              "    }\n",
              "\n",
              "    .dataframe thead th {\n",
              "        text-align: right;\n",
              "    }\n",
              "</style>\n",
              "<table border=\"1\" class=\"dataframe\">\n",
              "  <thead>\n",
              "    <tr style=\"text-align: right;\">\n",
              "      <th></th>\n",
              "      <th>Major name</th>\n",
              "      <th>Admit GPA range</th>\n",
              "      <th>Admit rate</th>\n",
              "      <th>Enroll GPA range</th>\n",
              "      <th>Yield rate</th>\n",
              "      <th>Admits</th>\n",
              "      <th>Applicants</th>\n",
              "      <th>Enrolls</th>\n",
              "    </tr>\n",
              "  </thead>\n",
              "  <tbody>\n",
              "    <tr>\n",
              "      <th>44</th>\n",
              "      <td>Spanish / portuguese</td>\n",
              "      <td>3.35 - 3.72</td>\n",
              "      <td>0.568182</td>\n",
              "      <td>3.34 - 3.89</td>\n",
              "      <td>0.52</td>\n",
              "      <td>25</td>\n",
              "      <td>44</td>\n",
              "      <td>13</td>\n",
              "    </tr>\n",
              "  </tbody>\n",
              "</table>\n",
              "</div>"
            ],
            "text/plain": [
              "              Major name Admit GPA range  Admit rate Enroll GPA range  \\\n",
              "44  Spanish / portuguese     3.35 - 3.72    0.568182      3.34 - 3.89   \n",
              "\n",
              "    Yield rate  Admits  Applicants  Enrolls  \n",
              "44        0.52      25          44       13  "
            ]
          },
          "execution_count": 201,
          "metadata": {},
          "output_type": "execute_result"
        }
      ],
      "source": [
        "df_2022[df_2022['Major name'] == 'Spanish / portuguese']"
      ]
    },
    {
      "cell_type": "code",
      "execution_count": null,
      "metadata": {},
      "outputs": [
        {
          "data": {
            "text/plain": [
              "{'Engineering physics',\n",
              " 'Forestry & natural resources',\n",
              " 'French',\n",
              " 'Landscape architecture',\n",
              " 'Molecular & cell biology - pl1 - 1',\n",
              " 'Molecular & cell biology - pl1 - 2',\n",
              " 'Molecular & cell biology - pl1 - 3',\n",
              " 'Molecular & cell biology - pl2 - 2',\n",
              " 'Molecular & cell biology - pl2 - 3',\n",
              " 'Near eastern civilizations',\n",
              " 'Operations research & management science',\n",
              " 'Spanish',\n",
              " 'Spanish - option d',\n",
              " 'Sustainable environmental design'}"
            ]
          },
          "execution_count": 223,
          "metadata": {},
          "output_type": "execute_result"
        }
      ],
      "source": [
        "set(df_2018['Major name'].values.tolist()).difference(set(df_2022['Major name'].values.tolist()))"
      ]
    },
    {
      "cell_type": "code",
      "execution_count": null,
      "metadata": {
        "colab": {
          "base_uri": "https://localhost:8080/"
        },
        "id": "7kltEItqysrF",
        "outputId": "5565d9f5-44f9-495d-f4e6-1a6fc80ba299"
      },
      "outputs": [
        {
          "name": "stdout",
          "output_type": "stream",
          "text": [
            "{'Asian american and asian diaspora studies', 'Ancient greek and roman studies', 'Dance & performance studies', 'Nuclear engineering'}\n"
          ]
        }
      ],
      "source": [
        "print(set(df_2022['Major name'].values.tolist()).difference(set(df_2021['Major name'].values.tolist())))"
      ]
    },
    {
      "cell_type": "markdown",
      "metadata": {
        "id": "8hTaSH-K04Jf"
      },
      "source": [
        "these four majors are not existed in 2021"
      ]
    },
    {
      "cell_type": "code",
      "execution_count": null,
      "metadata": {
        "colab": {
          "base_uri": "https://localhost:8080/"
        },
        "id": "ODIYcNK00jid",
        "outputId": "e12de375-c79d-405a-d286-1d860976e30b"
      },
      "outputs": [
        {
          "data": {
            "text/plain": [
              "{'African-american studies',\n",
              " 'Ancient greek and roman studies',\n",
              " 'Asian american and asian diaspora studies',\n",
              " 'Environmental earth science'}"
            ]
          },
          "execution_count": 15,
          "metadata": {},
          "output_type": "execute_result"
        }
      ],
      "source": [
        "set(df_2022['Major name'].values.tolist()).difference(set(df_2020['Major name'].values.tolist()))"
      ]
    },
    {
      "cell_type": "code",
      "execution_count": null,
      "metadata": {},
      "outputs": [
        {
          "data": {
            "text/plain": [
              "{'Ancient egypt & near eastern art',\n",
              " 'Classical civilization',\n",
              " 'French',\n",
              " 'Geophysics',\n",
              " 'Landscape architecture',\n",
              " 'Near eastern civilizations',\n",
              " 'Operations research & management science'}"
            ]
          },
          "execution_count": 34,
          "metadata": {},
          "output_type": "execute_result"
        }
      ],
      "source": [
        "set(df_2020['Major name'].values.tolist()).difference(set(df_2022['Major name'].values.tolist()))"
      ]
    },
    {
      "cell_type": "code",
      "execution_count": null,
      "metadata": {
        "colab": {
          "base_uri": "https://localhost:8080/"
        },
        "id": "lAlzIbqA0ohA",
        "outputId": "55353cab-8d0b-47f4-8797-94ac5ea07e3f"
      },
      "outputs": [
        {
          "data": {
            "text/plain": [
              "{'African-american studies',\n",
              " 'Environmental earth science',\n",
              " 'Italian studies',\n",
              " 'Sustainable environmental design'}"
            ]
          },
          "execution_count": 16,
          "metadata": {},
          "output_type": "execute_result"
        }
      ],
      "source": [
        "set(df_2021['Major name'].values.tolist()).difference(set(df_2020['Major name'].values.tolist()))"
      ]
    },
    {
      "cell_type": "code",
      "execution_count": null,
      "metadata": {
        "id": "gbaIl5XF2T7x"
      },
      "outputs": [],
      "source": [
        "import plotly.express as px\n",
        "import matplotlib.pyplot as plt"
      ]
    },
    {
      "cell_type": "markdown",
      "metadata": {
        "id": "k4X5dSXg2kg4"
      },
      "source": [
        "Geography vs Economics 2022, 2021 admit rate"
      ]
    },
    {
      "cell_type": "markdown",
      "metadata": {
        "id": "leDt7WyT6tnG"
      },
      "source": [
        "一年だけの'Admit rate', 'Yield rate', 'Admits', 'Applicants', 'Enrolls'はbar graphでいける"
      ]
    },
    {
      "cell_type": "code",
      "execution_count": null,
      "metadata": {},
      "outputs": [
        {
          "data": {
            "text/plain": [
              "'1.5.3'"
            ]
          },
          "execution_count": 20,
          "metadata": {},
          "output_type": "execute_result"
        }
      ],
      "source": [
        "pd.__version__"
      ]
    },
    {
      "cell_type": "code",
      "execution_count": null,
      "metadata": {},
      "outputs": [],
      "source": [
        "from difflib import SequenceMatcher"
      ]
    },
    {
      "cell_type": "code",
      "execution_count": null,
      "metadata": {},
      "outputs": [
        {
          "data": {
            "text/plain": [
              "0.625"
            ]
          },
          "execution_count": 34,
          "metadata": {},
          "output_type": "execute_result"
        }
      ],
      "source": [
        "SequenceMatcher(None, 'datascience', 'datas').ratio()\n"
      ]
    },
    {
      "cell_type": "code",
      "execution_count": null,
      "metadata": {},
      "outputs": [],
      "source": [
        "new_list = df_2022['Major name'].apply(lambda x : SequenceMatcher(None, 'datascience', x).ratio() > 0.6)"
      ]
    },
    {
      "cell_type": "code",
      "execution_count": null,
      "metadata": {
        "id": "EmIIg95158Xa"
      },
      "outputs": [],
      "source": [
        "major_list = []\n",
        "major_list.append('Geography')\n",
        "major_list.append('Economics')\n",
        "\n",
        "value_list = []\n",
        "value_list.append(float(df_2022.loc[df_2022['Major name'] == 'Geography','Admit rate']))\n",
        "value_list.append(float(df_2022.loc[df_2022['Major name'] == 'Economics','Admit rate']))\n",
        "px.bar(x = major_list, y = value_list, width=500, height=600)"
      ]
    },
    {
      "cell_type": "markdown",
      "metadata": {
        "id": "GgsXf6gW7HFP"
      },
      "source": [
        "'Enroll GPA range' と'Admit GPA range' の時はまず二つの数に分ける"
      ]
    },
    {
      "cell_type": "code",
      "execution_count": null,
      "metadata": {
        "colab": {
          "base_uri": "https://localhost:8080/"
        },
        "id": "u2w3CoJX_Sbm",
        "outputId": "22dfa38d-973b-4502-960f-f45a892d9acf"
      },
      "outputs": [
        {
          "data": {
            "text/plain": [
              "4.0"
            ]
          },
          "execution_count": 106,
          "metadata": {},
          "output_type": "execute_result"
        }
      ],
      "source": [
        "float(df_2022.loc[df_2022['Major name'] == 'Economics','Enroll GPA range'].tolist()[0][7:])"
      ]
    },
    {
      "cell_type": "code",
      "execution_count": null,
      "metadata": {
        "id": "ZtMdfF668Qot"
      },
      "outputs": [],
      "source": [
        "lower_list = []\n",
        "diff_list = []\n",
        "lower = float(df_2022.loc[df_2022['Major name'] == 'Geography','Enroll GPA range'].tolist()[0][0:4])\n",
        "upper = float(df_2022.loc[df_2022['Major name'] == 'Geography','Enroll GPA range'].tolist()[0][7:])\n",
        "\n",
        "lower_list.append(lower)\n",
        "lower_list.append(3.77)\n",
        "diff_list.append(upper - lower)\n",
        "diff_list.append(4.0 - 3.77)"
      ]
    },
    {
      "cell_type": "code",
      "execution_count": null,
      "metadata": {
        "colab": {
          "base_uri": "https://localhost:8080/",
          "height": 617
        },
        "id": "2yh96-vQNBR6",
        "outputId": "0bb54891-608c-4f85-de03-cc38adff294c"
      },
      "outputs": [
        {
          "data": {
            "text/html": [
              "<html>\n",
              "<head><meta charset=\"utf-8\" /></head>\n",
              "<body>\n",
              "    <div>            <script src=\"https://cdnjs.cloudflare.com/ajax/libs/mathjax/2.7.5/MathJax.js?config=TeX-AMS-MML_SVG\"></script><script type=\"text/javascript\">if (window.MathJax && window.MathJax.Hub && window.MathJax.Hub.Config) {window.MathJax.Hub.Config({SVG: {font: \"STIX-Web\"}});}</script>                <script type=\"text/javascript\">window.PlotlyConfig = {MathJaxConfig: 'local'};</script>\n",
              "        <script src=\"https://cdn.plot.ly/plotly-2.18.2.min.js\"></script>                <div id=\"093b57e3-b4da-4d9c-b14d-689066711044\" class=\"plotly-graph-div\" style=\"height:600px; width:500px;\"></div>            <script type=\"text/javascript\">                                    window.PLOTLYENV=window.PLOTLYENV || {};                                    if (document.getElementById(\"093b57e3-b4da-4d9c-b14d-689066711044\")) {                    Plotly.newPlot(                        \"093b57e3-b4da-4d9c-b14d-689066711044\",                        [{\"alignmentgroup\":\"True\",\"base\":[3.56,3.77],\"hovertemplate\":\"base=%{base}<br>x=%{x}<br>y=%{y}<extra></extra>\",\"legendgroup\":\"\",\"marker\":{\"color\":\"#636efa\",\"pattern\":{\"shape\":\"\"}},\"name\":\"\",\"offsetgroup\":\"\",\"orientation\":\"v\",\"showlegend\":false,\"textposition\":\"auto\",\"x\":[\"Geography\",\"Economics\"],\"xaxis\":\"x\",\"y\":[0.3700000000000001,0.22999999999999998],\"yaxis\":\"y\",\"type\":\"bar\"}],                        {\"template\":{\"data\":{\"histogram2dcontour\":[{\"type\":\"histogram2dcontour\",\"colorbar\":{\"outlinewidth\":0,\"ticks\":\"\"},\"colorscale\":[[0.0,\"#0d0887\"],[0.1111111111111111,\"#46039f\"],[0.2222222222222222,\"#7201a8\"],[0.3333333333333333,\"#9c179e\"],[0.4444444444444444,\"#bd3786\"],[0.5555555555555556,\"#d8576b\"],[0.6666666666666666,\"#ed7953\"],[0.7777777777777778,\"#fb9f3a\"],[0.8888888888888888,\"#fdca26\"],[1.0,\"#f0f921\"]]}],\"choropleth\":[{\"type\":\"choropleth\",\"colorbar\":{\"outlinewidth\":0,\"ticks\":\"\"}}],\"histogram2d\":[{\"type\":\"histogram2d\",\"colorbar\":{\"outlinewidth\":0,\"ticks\":\"\"},\"colorscale\":[[0.0,\"#0d0887\"],[0.1111111111111111,\"#46039f\"],[0.2222222222222222,\"#7201a8\"],[0.3333333333333333,\"#9c179e\"],[0.4444444444444444,\"#bd3786\"],[0.5555555555555556,\"#d8576b\"],[0.6666666666666666,\"#ed7953\"],[0.7777777777777778,\"#fb9f3a\"],[0.8888888888888888,\"#fdca26\"],[1.0,\"#f0f921\"]]}],\"heatmap\":[{\"type\":\"heatmap\",\"colorbar\":{\"outlinewidth\":0,\"ticks\":\"\"},\"colorscale\":[[0.0,\"#0d0887\"],[0.1111111111111111,\"#46039f\"],[0.2222222222222222,\"#7201a8\"],[0.3333333333333333,\"#9c179e\"],[0.4444444444444444,\"#bd3786\"],[0.5555555555555556,\"#d8576b\"],[0.6666666666666666,\"#ed7953\"],[0.7777777777777778,\"#fb9f3a\"],[0.8888888888888888,\"#fdca26\"],[1.0,\"#f0f921\"]]}],\"heatmapgl\":[{\"type\":\"heatmapgl\",\"colorbar\":{\"outlinewidth\":0,\"ticks\":\"\"},\"colorscale\":[[0.0,\"#0d0887\"],[0.1111111111111111,\"#46039f\"],[0.2222222222222222,\"#7201a8\"],[0.3333333333333333,\"#9c179e\"],[0.4444444444444444,\"#bd3786\"],[0.5555555555555556,\"#d8576b\"],[0.6666666666666666,\"#ed7953\"],[0.7777777777777778,\"#fb9f3a\"],[0.8888888888888888,\"#fdca26\"],[1.0,\"#f0f921\"]]}],\"contourcarpet\":[{\"type\":\"contourcarpet\",\"colorbar\":{\"outlinewidth\":0,\"ticks\":\"\"}}],\"contour\":[{\"type\":\"contour\",\"colorbar\":{\"outlinewidth\":0,\"ticks\":\"\"},\"colorscale\":[[0.0,\"#0d0887\"],[0.1111111111111111,\"#46039f\"],[0.2222222222222222,\"#7201a8\"],[0.3333333333333333,\"#9c179e\"],[0.4444444444444444,\"#bd3786\"],[0.5555555555555556,\"#d8576b\"],[0.6666666666666666,\"#ed7953\"],[0.7777777777777778,\"#fb9f3a\"],[0.8888888888888888,\"#fdca26\"],[1.0,\"#f0f921\"]]}],\"surface\":[{\"type\":\"surface\",\"colorbar\":{\"outlinewidth\":0,\"ticks\":\"\"},\"colorscale\":[[0.0,\"#0d0887\"],[0.1111111111111111,\"#46039f\"],[0.2222222222222222,\"#7201a8\"],[0.3333333333333333,\"#9c179e\"],[0.4444444444444444,\"#bd3786\"],[0.5555555555555556,\"#d8576b\"],[0.6666666666666666,\"#ed7953\"],[0.7777777777777778,\"#fb9f3a\"],[0.8888888888888888,\"#fdca26\"],[1.0,\"#f0f921\"]]}],\"mesh3d\":[{\"type\":\"mesh3d\",\"colorbar\":{\"outlinewidth\":0,\"ticks\":\"\"}}],\"scatter\":[{\"fillpattern\":{\"fillmode\":\"overlay\",\"size\":10,\"solidity\":0.2},\"type\":\"scatter\"}],\"parcoords\":[{\"type\":\"parcoords\",\"line\":{\"colorbar\":{\"outlinewidth\":0,\"ticks\":\"\"}}}],\"scatterpolargl\":[{\"type\":\"scatterpolargl\",\"marker\":{\"colorbar\":{\"outlinewidth\":0,\"ticks\":\"\"}}}],\"bar\":[{\"error_x\":{\"color\":\"#2a3f5f\"},\"error_y\":{\"color\":\"#2a3f5f\"},\"marker\":{\"line\":{\"color\":\"#E5ECF6\",\"width\":0.5},\"pattern\":{\"fillmode\":\"overlay\",\"size\":10,\"solidity\":0.2}},\"type\":\"bar\"}],\"scattergeo\":[{\"type\":\"scattergeo\",\"marker\":{\"colorbar\":{\"outlinewidth\":0,\"ticks\":\"\"}}}],\"scatterpolar\":[{\"type\":\"scatterpolar\",\"marker\":{\"colorbar\":{\"outlinewidth\":0,\"ticks\":\"\"}}}],\"histogram\":[{\"marker\":{\"pattern\":{\"fillmode\":\"overlay\",\"size\":10,\"solidity\":0.2}},\"type\":\"histogram\"}],\"scattergl\":[{\"type\":\"scattergl\",\"marker\":{\"colorbar\":{\"outlinewidth\":0,\"ticks\":\"\"}}}],\"scatter3d\":[{\"type\":\"scatter3d\",\"line\":{\"colorbar\":{\"outlinewidth\":0,\"ticks\":\"\"}},\"marker\":{\"colorbar\":{\"outlinewidth\":0,\"ticks\":\"\"}}}],\"scattermapbox\":[{\"type\":\"scattermapbox\",\"marker\":{\"colorbar\":{\"outlinewidth\":0,\"ticks\":\"\"}}}],\"scatterternary\":[{\"type\":\"scatterternary\",\"marker\":{\"colorbar\":{\"outlinewidth\":0,\"ticks\":\"\"}}}],\"scattercarpet\":[{\"type\":\"scattercarpet\",\"marker\":{\"colorbar\":{\"outlinewidth\":0,\"ticks\":\"\"}}}],\"carpet\":[{\"aaxis\":{\"endlinecolor\":\"#2a3f5f\",\"gridcolor\":\"white\",\"linecolor\":\"white\",\"minorgridcolor\":\"white\",\"startlinecolor\":\"#2a3f5f\"},\"baxis\":{\"endlinecolor\":\"#2a3f5f\",\"gridcolor\":\"white\",\"linecolor\":\"white\",\"minorgridcolor\":\"white\",\"startlinecolor\":\"#2a3f5f\"},\"type\":\"carpet\"}],\"table\":[{\"cells\":{\"fill\":{\"color\":\"#EBF0F8\"},\"line\":{\"color\":\"white\"}},\"header\":{\"fill\":{\"color\":\"#C8D4E3\"},\"line\":{\"color\":\"white\"}},\"type\":\"table\"}],\"barpolar\":[{\"marker\":{\"line\":{\"color\":\"#E5ECF6\",\"width\":0.5},\"pattern\":{\"fillmode\":\"overlay\",\"size\":10,\"solidity\":0.2}},\"type\":\"barpolar\"}],\"pie\":[{\"automargin\":true,\"type\":\"pie\"}]},\"layout\":{\"autotypenumbers\":\"strict\",\"colorway\":[\"#636efa\",\"#EF553B\",\"#00cc96\",\"#ab63fa\",\"#FFA15A\",\"#19d3f3\",\"#FF6692\",\"#B6E880\",\"#FF97FF\",\"#FECB52\"],\"font\":{\"color\":\"#2a3f5f\"},\"hovermode\":\"closest\",\"hoverlabel\":{\"align\":\"left\"},\"paper_bgcolor\":\"white\",\"plot_bgcolor\":\"#E5ECF6\",\"polar\":{\"bgcolor\":\"#E5ECF6\",\"angularaxis\":{\"gridcolor\":\"white\",\"linecolor\":\"white\",\"ticks\":\"\"},\"radialaxis\":{\"gridcolor\":\"white\",\"linecolor\":\"white\",\"ticks\":\"\"}},\"ternary\":{\"bgcolor\":\"#E5ECF6\",\"aaxis\":{\"gridcolor\":\"white\",\"linecolor\":\"white\",\"ticks\":\"\"},\"baxis\":{\"gridcolor\":\"white\",\"linecolor\":\"white\",\"ticks\":\"\"},\"caxis\":{\"gridcolor\":\"white\",\"linecolor\":\"white\",\"ticks\":\"\"}},\"coloraxis\":{\"colorbar\":{\"outlinewidth\":0,\"ticks\":\"\"}},\"colorscale\":{\"sequential\":[[0.0,\"#0d0887\"],[0.1111111111111111,\"#46039f\"],[0.2222222222222222,\"#7201a8\"],[0.3333333333333333,\"#9c179e\"],[0.4444444444444444,\"#bd3786\"],[0.5555555555555556,\"#d8576b\"],[0.6666666666666666,\"#ed7953\"],[0.7777777777777778,\"#fb9f3a\"],[0.8888888888888888,\"#fdca26\"],[1.0,\"#f0f921\"]],\"sequentialminus\":[[0.0,\"#0d0887\"],[0.1111111111111111,\"#46039f\"],[0.2222222222222222,\"#7201a8\"],[0.3333333333333333,\"#9c179e\"],[0.4444444444444444,\"#bd3786\"],[0.5555555555555556,\"#d8576b\"],[0.6666666666666666,\"#ed7953\"],[0.7777777777777778,\"#fb9f3a\"],[0.8888888888888888,\"#fdca26\"],[1.0,\"#f0f921\"]],\"diverging\":[[0,\"#8e0152\"],[0.1,\"#c51b7d\"],[0.2,\"#de77ae\"],[0.3,\"#f1b6da\"],[0.4,\"#fde0ef\"],[0.5,\"#f7f7f7\"],[0.6,\"#e6f5d0\"],[0.7,\"#b8e186\"],[0.8,\"#7fbc41\"],[0.9,\"#4d9221\"],[1,\"#276419\"]]},\"xaxis\":{\"gridcolor\":\"white\",\"linecolor\":\"white\",\"ticks\":\"\",\"title\":{\"standoff\":15},\"zerolinecolor\":\"white\",\"automargin\":true,\"zerolinewidth\":2},\"yaxis\":{\"gridcolor\":\"white\",\"linecolor\":\"white\",\"ticks\":\"\",\"title\":{\"standoff\":15},\"zerolinecolor\":\"white\",\"automargin\":true,\"zerolinewidth\":2},\"scene\":{\"xaxis\":{\"backgroundcolor\":\"#E5ECF6\",\"gridcolor\":\"white\",\"linecolor\":\"white\",\"showbackground\":true,\"ticks\":\"\",\"zerolinecolor\":\"white\",\"gridwidth\":2},\"yaxis\":{\"backgroundcolor\":\"#E5ECF6\",\"gridcolor\":\"white\",\"linecolor\":\"white\",\"showbackground\":true,\"ticks\":\"\",\"zerolinecolor\":\"white\",\"gridwidth\":2},\"zaxis\":{\"backgroundcolor\":\"#E5ECF6\",\"gridcolor\":\"white\",\"linecolor\":\"white\",\"showbackground\":true,\"ticks\":\"\",\"zerolinecolor\":\"white\",\"gridwidth\":2}},\"shapedefaults\":{\"line\":{\"color\":\"#2a3f5f\"}},\"annotationdefaults\":{\"arrowcolor\":\"#2a3f5f\",\"arrowhead\":0,\"arrowwidth\":1},\"geo\":{\"bgcolor\":\"white\",\"landcolor\":\"#E5ECF6\",\"subunitcolor\":\"white\",\"showland\":true,\"showlakes\":true,\"lakecolor\":\"white\"},\"title\":{\"x\":0.05},\"mapbox\":{\"style\":\"light\"}}},\"xaxis\":{\"anchor\":\"y\",\"domain\":[0.0,1.0],\"title\":{\"text\":\"x\"}},\"yaxis\":{\"anchor\":\"x\",\"domain\":[0.0,1.0],\"title\":{\"text\":\"y\"}},\"legend\":{\"tracegroupgap\":0},\"margin\":{\"t\":60},\"barmode\":\"relative\",\"height\":600,\"width\":500},                        {\"responsive\": true}                    ).then(function(){\n",
              "                            \n",
              "var gd = document.getElementById('093b57e3-b4da-4d9c-b14d-689066711044');\n",
              "var x = new MutationObserver(function (mutations, observer) {{\n",
              "        var display = window.getComputedStyle(gd).display;\n",
              "        if (!display || display === 'none') {{\n",
              "            console.log([gd, 'removed!']);\n",
              "            Plotly.purge(gd);\n",
              "            observer.disconnect();\n",
              "        }}\n",
              "}});\n",
              "\n",
              "// Listen for the removal of the full notebook cells\n",
              "var notebookContainer = gd.closest('#notebook-container');\n",
              "if (notebookContainer) {{\n",
              "    x.observe(notebookContainer, {childList: true});\n",
              "}}\n",
              "\n",
              "// Listen for the clearing of the current output cell\n",
              "var outputEl = gd.closest('.output');\n",
              "if (outputEl) {{\n",
              "    x.observe(outputEl, {childList: true});\n",
              "}}\n",
              "\n",
              "                        })                };                            </script>        </div>\n",
              "</body>\n",
              "</html>"
            ]
          },
          "metadata": {},
          "output_type": "display_data"
        }
      ],
      "source": [
        "import numpy as np\n",
        "import matplotlib.pyplot as plt\n",
        "px.bar(x=major_list, y=diff_list, base=lower_list, width=500, height=600)"
      ]
    },
    {
      "cell_type": "markdown",
      "metadata": {
        "id": "vIHgEKbhBoZ_"
      },
      "source": [
        "複数年 2022, 2021, 2020 の時は line plot\n",
        "2022に存在してるメジャーだけをオプションに入れておく設定して、もしなければ０を返せばいい\n",
        "if year is 1 then above graphs among chosen majors\n",
        "\n",
        "if year > 0 then below"
      ]
    },
    {
      "cell_type": "markdown",
      "metadata": {
        "id": "XWtnXQS1BoTr"
      },
      "source": []
    },
    {
      "cell_type": "code",
      "execution_count": null,
      "metadata": {
        "id": "Y6C4l4Y1EtFf"
      },
      "outputs": [],
      "source": [
        "multiple_dict = {}\n",
        "multiple_value = []\n",
        "multiple_value.append(df_2020.loc[df_2020['Major name'] == 'Geography','Admit rate'].to_list()[0])\n",
        "multiple_value.append(df_2021.loc[df_2021['Major name'] == 'Geography','Admit rate'].to_list()[0])\n",
        "multiple_value.append(df_2022.loc[df_2022['Major name'] == 'Geography','Admit rate'].to_list()[0])\n",
        "multiple_dict['Geography'] = multiple_value\n",
        "multiple_value = []\n",
        "multiple_value.append(df_2020.loc[df_2020['Major name'] == 'Economics','Admit rate'].to_list()[0])\n",
        "multiple_value.append(df_2021.loc[df_2021['Major name'] == 'Economics','Admit rate'].to_list()[0])\n",
        "multiple_value.append(df_2022.loc[df_2022['Major name'] == 'Economics','Admit rate'].to_list()[0])\n",
        "multiple_dict['Economics'] = multiple_value"
      ]
    },
    {
      "cell_type": "code",
      "execution_count": null,
      "metadata": {
        "colab": {
          "base_uri": "https://localhost:8080/"
        },
        "id": "KiuKk7bXE50P",
        "outputId": "920397d7-37dc-440e-ea00-953cb294dc7f"
      },
      "outputs": [
        {
          "data": {
            "text/plain": [
              "{'Geography': [0.098591549, 0.271428571, 0.65],\n",
              " 'Economics': [0.148062016, 0.221338635, 0.137083994]}"
            ]
          },
          "execution_count": 147,
          "metadata": {},
          "output_type": "execute_result"
        }
      ],
      "source": [
        "multiple_dict"
      ]
    },
    {
      "cell_type": "code",
      "execution_count": null,
      "metadata": {
        "id": "R9Cnr3VjP0Dn"
      },
      "outputs": [],
      "source": [
        "year  = [2020, 2021, 2022]"
      ]
    },
    {
      "cell_type": "code",
      "execution_count": null,
      "metadata": {
        "colab": {
          "base_uri": "https://localhost:8080/",
          "height": 542
        },
        "id": "K_45CrH8MidI",
        "outputId": "05edbd74-daf1-40ba-a32e-3a4e0dc939a0"
      },
      "outputs": [
        {
          "data": {
            "text/html": [
              "<html>\n",
              "<head><meta charset=\"utf-8\" /></head>\n",
              "<body>\n",
              "    <div>            <script src=\"https://cdnjs.cloudflare.com/ajax/libs/mathjax/2.7.5/MathJax.js?config=TeX-AMS-MML_SVG\"></script><script type=\"text/javascript\">if (window.MathJax && window.MathJax.Hub && window.MathJax.Hub.Config) {window.MathJax.Hub.Config({SVG: {font: \"STIX-Web\"}});}</script>                <script type=\"text/javascript\">window.PlotlyConfig = {MathJaxConfig: 'local'};</script>\n",
              "        <script src=\"https://cdn.plot.ly/plotly-2.18.2.min.js\"></script>                <div id=\"20018e3a-4f9c-49f9-b676-32c501fe00c1\" class=\"plotly-graph-div\" style=\"height:525px; width:100%;\"></div>            <script type=\"text/javascript\">                                    window.PLOTLYENV=window.PLOTLYENV || {};                                    if (document.getElementById(\"20018e3a-4f9c-49f9-b676-32c501fe00c1\")) {                    Plotly.newPlot(                        \"20018e3a-4f9c-49f9-b676-32c501fe00c1\",                        [{\"mode\":\"lines\",\"name\":\"Geography\",\"x\":[\"2020\",\"2021\",\"2022\"],\"y\":[0.098591549,0.271428571,0.65],\"type\":\"scatter\"},{\"mode\":\"lines\",\"name\":\"Economics\",\"x\":[\"2020\",\"2021\",\"2022\"],\"y\":[0.148062016,0.221338635,0.137083994],\"type\":\"scatter\"}],                        {\"template\":{\"data\":{\"histogram2dcontour\":[{\"type\":\"histogram2dcontour\",\"colorbar\":{\"outlinewidth\":0,\"ticks\":\"\"},\"colorscale\":[[0.0,\"#0d0887\"],[0.1111111111111111,\"#46039f\"],[0.2222222222222222,\"#7201a8\"],[0.3333333333333333,\"#9c179e\"],[0.4444444444444444,\"#bd3786\"],[0.5555555555555556,\"#d8576b\"],[0.6666666666666666,\"#ed7953\"],[0.7777777777777778,\"#fb9f3a\"],[0.8888888888888888,\"#fdca26\"],[1.0,\"#f0f921\"]]}],\"choropleth\":[{\"type\":\"choropleth\",\"colorbar\":{\"outlinewidth\":0,\"ticks\":\"\"}}],\"histogram2d\":[{\"type\":\"histogram2d\",\"colorbar\":{\"outlinewidth\":0,\"ticks\":\"\"},\"colorscale\":[[0.0,\"#0d0887\"],[0.1111111111111111,\"#46039f\"],[0.2222222222222222,\"#7201a8\"],[0.3333333333333333,\"#9c179e\"],[0.4444444444444444,\"#bd3786\"],[0.5555555555555556,\"#d8576b\"],[0.6666666666666666,\"#ed7953\"],[0.7777777777777778,\"#fb9f3a\"],[0.8888888888888888,\"#fdca26\"],[1.0,\"#f0f921\"]]}],\"heatmap\":[{\"type\":\"heatmap\",\"colorbar\":{\"outlinewidth\":0,\"ticks\":\"\"},\"colorscale\":[[0.0,\"#0d0887\"],[0.1111111111111111,\"#46039f\"],[0.2222222222222222,\"#7201a8\"],[0.3333333333333333,\"#9c179e\"],[0.4444444444444444,\"#bd3786\"],[0.5555555555555556,\"#d8576b\"],[0.6666666666666666,\"#ed7953\"],[0.7777777777777778,\"#fb9f3a\"],[0.8888888888888888,\"#fdca26\"],[1.0,\"#f0f921\"]]}],\"heatmapgl\":[{\"type\":\"heatmapgl\",\"colorbar\":{\"outlinewidth\":0,\"ticks\":\"\"},\"colorscale\":[[0.0,\"#0d0887\"],[0.1111111111111111,\"#46039f\"],[0.2222222222222222,\"#7201a8\"],[0.3333333333333333,\"#9c179e\"],[0.4444444444444444,\"#bd3786\"],[0.5555555555555556,\"#d8576b\"],[0.6666666666666666,\"#ed7953\"],[0.7777777777777778,\"#fb9f3a\"],[0.8888888888888888,\"#fdca26\"],[1.0,\"#f0f921\"]]}],\"contourcarpet\":[{\"type\":\"contourcarpet\",\"colorbar\":{\"outlinewidth\":0,\"ticks\":\"\"}}],\"contour\":[{\"type\":\"contour\",\"colorbar\":{\"outlinewidth\":0,\"ticks\":\"\"},\"colorscale\":[[0.0,\"#0d0887\"],[0.1111111111111111,\"#46039f\"],[0.2222222222222222,\"#7201a8\"],[0.3333333333333333,\"#9c179e\"],[0.4444444444444444,\"#bd3786\"],[0.5555555555555556,\"#d8576b\"],[0.6666666666666666,\"#ed7953\"],[0.7777777777777778,\"#fb9f3a\"],[0.8888888888888888,\"#fdca26\"],[1.0,\"#f0f921\"]]}],\"surface\":[{\"type\":\"surface\",\"colorbar\":{\"outlinewidth\":0,\"ticks\":\"\"},\"colorscale\":[[0.0,\"#0d0887\"],[0.1111111111111111,\"#46039f\"],[0.2222222222222222,\"#7201a8\"],[0.3333333333333333,\"#9c179e\"],[0.4444444444444444,\"#bd3786\"],[0.5555555555555556,\"#d8576b\"],[0.6666666666666666,\"#ed7953\"],[0.7777777777777778,\"#fb9f3a\"],[0.8888888888888888,\"#fdca26\"],[1.0,\"#f0f921\"]]}],\"mesh3d\":[{\"type\":\"mesh3d\",\"colorbar\":{\"outlinewidth\":0,\"ticks\":\"\"}}],\"scatter\":[{\"fillpattern\":{\"fillmode\":\"overlay\",\"size\":10,\"solidity\":0.2},\"type\":\"scatter\"}],\"parcoords\":[{\"type\":\"parcoords\",\"line\":{\"colorbar\":{\"outlinewidth\":0,\"ticks\":\"\"}}}],\"scatterpolargl\":[{\"type\":\"scatterpolargl\",\"marker\":{\"colorbar\":{\"outlinewidth\":0,\"ticks\":\"\"}}}],\"bar\":[{\"error_x\":{\"color\":\"#2a3f5f\"},\"error_y\":{\"color\":\"#2a3f5f\"},\"marker\":{\"line\":{\"color\":\"#E5ECF6\",\"width\":0.5},\"pattern\":{\"fillmode\":\"overlay\",\"size\":10,\"solidity\":0.2}},\"type\":\"bar\"}],\"scattergeo\":[{\"type\":\"scattergeo\",\"marker\":{\"colorbar\":{\"outlinewidth\":0,\"ticks\":\"\"}}}],\"scatterpolar\":[{\"type\":\"scatterpolar\",\"marker\":{\"colorbar\":{\"outlinewidth\":0,\"ticks\":\"\"}}}],\"histogram\":[{\"marker\":{\"pattern\":{\"fillmode\":\"overlay\",\"size\":10,\"solidity\":0.2}},\"type\":\"histogram\"}],\"scattergl\":[{\"type\":\"scattergl\",\"marker\":{\"colorbar\":{\"outlinewidth\":0,\"ticks\":\"\"}}}],\"scatter3d\":[{\"type\":\"scatter3d\",\"line\":{\"colorbar\":{\"outlinewidth\":0,\"ticks\":\"\"}},\"marker\":{\"colorbar\":{\"outlinewidth\":0,\"ticks\":\"\"}}}],\"scattermapbox\":[{\"type\":\"scattermapbox\",\"marker\":{\"colorbar\":{\"outlinewidth\":0,\"ticks\":\"\"}}}],\"scatterternary\":[{\"type\":\"scatterternary\",\"marker\":{\"colorbar\":{\"outlinewidth\":0,\"ticks\":\"\"}}}],\"scattercarpet\":[{\"type\":\"scattercarpet\",\"marker\":{\"colorbar\":{\"outlinewidth\":0,\"ticks\":\"\"}}}],\"carpet\":[{\"aaxis\":{\"endlinecolor\":\"#2a3f5f\",\"gridcolor\":\"white\",\"linecolor\":\"white\",\"minorgridcolor\":\"white\",\"startlinecolor\":\"#2a3f5f\"},\"baxis\":{\"endlinecolor\":\"#2a3f5f\",\"gridcolor\":\"white\",\"linecolor\":\"white\",\"minorgridcolor\":\"white\",\"startlinecolor\":\"#2a3f5f\"},\"type\":\"carpet\"}],\"table\":[{\"cells\":{\"fill\":{\"color\":\"#EBF0F8\"},\"line\":{\"color\":\"white\"}},\"header\":{\"fill\":{\"color\":\"#C8D4E3\"},\"line\":{\"color\":\"white\"}},\"type\":\"table\"}],\"barpolar\":[{\"marker\":{\"line\":{\"color\":\"#E5ECF6\",\"width\":0.5},\"pattern\":{\"fillmode\":\"overlay\",\"size\":10,\"solidity\":0.2}},\"type\":\"barpolar\"}],\"pie\":[{\"automargin\":true,\"type\":\"pie\"}]},\"layout\":{\"autotypenumbers\":\"strict\",\"colorway\":[\"#636efa\",\"#EF553B\",\"#00cc96\",\"#ab63fa\",\"#FFA15A\",\"#19d3f3\",\"#FF6692\",\"#B6E880\",\"#FF97FF\",\"#FECB52\"],\"font\":{\"color\":\"#2a3f5f\"},\"hovermode\":\"closest\",\"hoverlabel\":{\"align\":\"left\"},\"paper_bgcolor\":\"white\",\"plot_bgcolor\":\"#E5ECF6\",\"polar\":{\"bgcolor\":\"#E5ECF6\",\"angularaxis\":{\"gridcolor\":\"white\",\"linecolor\":\"white\",\"ticks\":\"\"},\"radialaxis\":{\"gridcolor\":\"white\",\"linecolor\":\"white\",\"ticks\":\"\"}},\"ternary\":{\"bgcolor\":\"#E5ECF6\",\"aaxis\":{\"gridcolor\":\"white\",\"linecolor\":\"white\",\"ticks\":\"\"},\"baxis\":{\"gridcolor\":\"white\",\"linecolor\":\"white\",\"ticks\":\"\"},\"caxis\":{\"gridcolor\":\"white\",\"linecolor\":\"white\",\"ticks\":\"\"}},\"coloraxis\":{\"colorbar\":{\"outlinewidth\":0,\"ticks\":\"\"}},\"colorscale\":{\"sequential\":[[0.0,\"#0d0887\"],[0.1111111111111111,\"#46039f\"],[0.2222222222222222,\"#7201a8\"],[0.3333333333333333,\"#9c179e\"],[0.4444444444444444,\"#bd3786\"],[0.5555555555555556,\"#d8576b\"],[0.6666666666666666,\"#ed7953\"],[0.7777777777777778,\"#fb9f3a\"],[0.8888888888888888,\"#fdca26\"],[1.0,\"#f0f921\"]],\"sequentialminus\":[[0.0,\"#0d0887\"],[0.1111111111111111,\"#46039f\"],[0.2222222222222222,\"#7201a8\"],[0.3333333333333333,\"#9c179e\"],[0.4444444444444444,\"#bd3786\"],[0.5555555555555556,\"#d8576b\"],[0.6666666666666666,\"#ed7953\"],[0.7777777777777778,\"#fb9f3a\"],[0.8888888888888888,\"#fdca26\"],[1.0,\"#f0f921\"]],\"diverging\":[[0,\"#8e0152\"],[0.1,\"#c51b7d\"],[0.2,\"#de77ae\"],[0.3,\"#f1b6da\"],[0.4,\"#fde0ef\"],[0.5,\"#f7f7f7\"],[0.6,\"#e6f5d0\"],[0.7,\"#b8e186\"],[0.8,\"#7fbc41\"],[0.9,\"#4d9221\"],[1,\"#276419\"]]},\"xaxis\":{\"gridcolor\":\"white\",\"linecolor\":\"white\",\"ticks\":\"\",\"title\":{\"standoff\":15},\"zerolinecolor\":\"white\",\"automargin\":true,\"zerolinewidth\":2},\"yaxis\":{\"gridcolor\":\"white\",\"linecolor\":\"white\",\"ticks\":\"\",\"title\":{\"standoff\":15},\"zerolinecolor\":\"white\",\"automargin\":true,\"zerolinewidth\":2},\"scene\":{\"xaxis\":{\"backgroundcolor\":\"#E5ECF6\",\"gridcolor\":\"white\",\"linecolor\":\"white\",\"showbackground\":true,\"ticks\":\"\",\"zerolinecolor\":\"white\",\"gridwidth\":2},\"yaxis\":{\"backgroundcolor\":\"#E5ECF6\",\"gridcolor\":\"white\",\"linecolor\":\"white\",\"showbackground\":true,\"ticks\":\"\",\"zerolinecolor\":\"white\",\"gridwidth\":2},\"zaxis\":{\"backgroundcolor\":\"#E5ECF6\",\"gridcolor\":\"white\",\"linecolor\":\"white\",\"showbackground\":true,\"ticks\":\"\",\"zerolinecolor\":\"white\",\"gridwidth\":2}},\"shapedefaults\":{\"line\":{\"color\":\"#2a3f5f\"}},\"annotationdefaults\":{\"arrowcolor\":\"#2a3f5f\",\"arrowhead\":0,\"arrowwidth\":1},\"geo\":{\"bgcolor\":\"white\",\"landcolor\":\"#E5ECF6\",\"subunitcolor\":\"white\",\"showland\":true,\"showlakes\":true,\"lakecolor\":\"white\"},\"title\":{\"x\":0.05},\"mapbox\":{\"style\":\"light\"}}}},                        {\"responsive\": true}                    ).then(function(){\n",
              "                            \n",
              "var gd = document.getElementById('20018e3a-4f9c-49f9-b676-32c501fe00c1');\n",
              "var x = new MutationObserver(function (mutations, observer) {{\n",
              "        var display = window.getComputedStyle(gd).display;\n",
              "        if (!display || display === 'none') {{\n",
              "            console.log([gd, 'removed!']);\n",
              "            Plotly.purge(gd);\n",
              "            observer.disconnect();\n",
              "        }}\n",
              "}});\n",
              "\n",
              "// Listen for the removal of the full notebook cells\n",
              "var notebookContainer = gd.closest('#notebook-container');\n",
              "if (notebookContainer) {{\n",
              "    x.observe(notebookContainer, {childList: true});\n",
              "}}\n",
              "\n",
              "// Listen for the clearing of the current output cell\n",
              "var outputEl = gd.closest('.output');\n",
              "if (outputEl) {{\n",
              "    x.observe(outputEl, {childList: true});\n",
              "}}\n",
              "\n",
              "                        })                };                            </script>        </div>\n",
              "</body>\n",
              "</html>"
            ]
          },
          "metadata": {},
          "output_type": "display_data"
        }
      ],
      "source": [
        "import plotly.express as px\n",
        "import plotly.graph_objects as go\n",
        "fig = go.Figure()\n",
        "fig.add_trace(go.Scatter(x=year, y=multiple_dict['Geography'],\n",
        "                    mode='lines',\n",
        "                    name='Geography'))\n",
        "fig.add_trace(go.Scatter(x=year, y=multiple_dict['Economics'],\n",
        "                    mode='lines',\n",
        "                    name='Economics'))\n",
        "\n",
        "fig.show()"
      ]
    },
    {
      "cell_type": "code",
      "execution_count": null,
      "metadata": {
        "colab": {
          "base_uri": "https://localhost:8080/"
        },
        "id": "WsZRT1XRK8Is",
        "outputId": "26bdbbdf-3709-4c44-e020-2e43eb93b92e"
      },
      "outputs": [
        {
          "data": {
            "text/plain": [
              "{'Geography': [0.098591549, 0.271428571, 0.65],\n",
              " 'Economics': [0.148062016, 0.221338635, 0.137083994]}"
            ]
          },
          "execution_count": 154,
          "metadata": {},
          "output_type": "execute_result"
        }
      ],
      "source": [
        "multiple_dict"
      ]
    },
    {
      "cell_type": "markdown",
      "metadata": {
        "id": "fhq5ZED9Jxl7"
      },
      "source": [
        "multiple year and multiple year"
      ]
    },
    {
      "cell_type": "markdown",
      "metadata": {
        "id": "FC57ybwWoJj3"
      },
      "source": []
    }
  ],
  "metadata": {
    "colab": {
      "provenance": []
    },
    "kernelspec": {
      "display_name": "Python 3",
      "name": "python3"
    },
    "language_info": {
      "codemirror_mode": {
        "name": "ipython",
        "version": 3
      },
      "file_extension": ".py",
      "mimetype": "text/x-python",
      "name": "python",
      "nbconvert_exporter": "python",
      "pygments_lexer": "ipython3",
      "version": "3.10.6"
    }
  },
  "nbformat": 4,
  "nbformat_minor": 0
}
